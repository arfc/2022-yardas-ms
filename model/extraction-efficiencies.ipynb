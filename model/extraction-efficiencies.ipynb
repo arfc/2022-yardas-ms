{
 "cells": [
  {
   "cell_type": "markdown",
   "id": "64b54206",
   "metadata": {},
   "source": [
    "## Extraction efficiencies from cycle times"
   ]
  },
  {
   "cell_type": "code",
   "execution_count": 18,
   "id": "e66d7222",
   "metadata": {},
   "outputs": [],
   "source": [
    "timestep_length = 3 #days\n",
    "cycle_times = [3, 50, 500, 20/(60*60*24), 200, 60, 3435]\n",
    "delta = 1e-16"
   ]
  },
  {
   "cell_type": "code",
   "execution_count": 19,
   "id": "2dba50c7",
   "metadata": {},
   "outputs": [],
   "source": [
    "def extraction_efficiency(delta, l_d, c_x):\n",
    "    if c_x <= l_d:\n",
    "        epsilon = 1\n",
    "    else:\n",
    "        epsilon = 1 - delta**(l_d / c_x)\n",
    "    return epsilon"
   ]
  },
  {
   "cell_type": "code",
   "execution_count": 20,
   "id": "be65a185",
   "metadata": {},
   "outputs": [],
   "source": [
    "epsilons = []\n",
    "for c_x in cycle_times:\n",
    "    epsilons += [extraction_efficiency(delta, timestep_length, c_x)]"
   ]
  },
  {
   "cell_type": "code",
   "execution_count": 21,
   "id": "4a4131b0",
   "metadata": {},
   "outputs": [
    {
     "data": {
      "text/plain": [
       "[1,\n",
       " 0.8903521803856815,\n",
       " 0.1983219366123209,\n",
       " 1,\n",
       " 0.4245600626628431,\n",
       " 0.8415106807538887,\n",
       " 0.03166372602487555]"
      ]
     },
     "execution_count": 21,
     "metadata": {},
     "output_type": "execute_result"
    }
   ],
   "source": [
    "epsilons"
   ]
  },
  {
   "cell_type": "code",
   "execution_count": null,
   "id": "ba96bfbf",
   "metadata": {},
   "outputs": [],
   "source": []
  }
 ],
 "metadata": {
  "kernelspec": {
   "display_name": "Python [conda env:saltproc-env] *",
   "language": "python",
   "name": "conda-env-saltproc-env-py"
  },
  "language_info": {
   "codemirror_mode": {
    "name": "ipython",
    "version": 3
   },
   "file_extension": ".py",
   "mimetype": "text/x-python",
   "name": "python",
   "nbconvert_exporter": "python",
   "pygments_lexer": "ipython3",
   "version": "3.9.13"
  }
 },
 "nbformat": 4,
 "nbformat_minor": 5
}
