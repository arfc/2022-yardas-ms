{
 "cells": [
  {
   "cell_type": "code",
   "execution_count": 1,
   "id": "e272d0d3",
   "metadata": {},
   "outputs": [],
   "source": [
    "import openmc\n",
    "import numpy as np\n",
    "from openmc.data import AVOGADRO, atomic_mass, atomic_weight"
   ]
  },
  {
   "cell_type": "code",
   "execution_count": 2,
   "id": "eb480df8",
   "metadata": {},
   "outputs": [],
   "source": [
    "def salt_dens_f(t):\n",
    "    return 235.0 - (0.02317 * t)\n",
    "\n",
    "def salt_dens(t):\n",
    "    return 3.752 - (6.68e-4 * t)\n",
    "\n",
    "def print_percents(mat, percent_type='ao'):\n",
    "    if percent_type == 'ao':\n",
    "        at_percents = []\n",
    "        nucs = []\n",
    "        at_mass = []\n",
    "        for nuc, pt, tp in mat.nuclides:\n",
    "            nucs.append(nuc)\n",
    "            at_percents.append(pt)\n",
    "            at_mass.append(atomic_mass(nuc))\n",
    "\n",
    "        at_percents = np.array(at_percents)\n",
    "        at_mass = np.array(at_mass)\n",
    "        print('Atom Percent:')\n",
    "        for i, nuc in enumerate(nucs):\n",
    "            print(f'{nuc}: {100 * at_percents[i]}')\n",
    "\n",
    "        mass_percents = at_percents*at_mass / np.dot(at_percents, at_mass)\n",
    "        print('\\nMass Percent:')\n",
    "        for i, nuc in enumerate(nucs):\n",
    "            print(f'{nuc}: {mass_percents[i] * 100}')\n",
    "    else:\n",
    "        mass_percents = []\n",
    "        nucs = []\n",
    "        at_mass = []\n",
    "        for nuc, pt, tp in mat.nuclides:\n",
    "            nucs.append(nuc)\n",
    "            mass_percents.append(pt)\n",
    "            at_mass.append(atomic_mass(nuc))\n",
    "\n",
    "        mass_percents = np.array(mass_percents)\n",
    "        at_mass = np.array(at_mass)\n",
    "        print('Mass Percent:')\n",
    "        for i, nuc in enumerate(nucs):\n",
    "            print(f'{nuc}: {100 * mass_percents[i]}')\n",
    "\n",
    "        at_percents = (mass_percents/at_mass) / np.dot(mass_percents, 1/at_mass)\n",
    "        print('\\nAtom Percent:')\n",
    "        for i, nuc in enumerate(nucs):\n",
    "            print(f'{nuc}: {at_percents[i] * 100}')\n",
    "    \n",
    "    return nucs, at_percents, mass_percents"
   ]
  },
  {
   "cell_type": "code",
   "execution_count": 3,
   "id": "c2511e77",
   "metadata": {},
   "outputs": [
    {
     "data": {
      "text/plain": [
       "3.3332642"
      ]
     },
     "execution_count": 3,
     "metadata": {},
     "output_type": "execute_result"
    }
   ],
   "source": [
    "salt_dens(900-273.15)"
   ]
  },
  {
   "cell_type": "code",
   "execution_count": 4,
   "id": "106a3318",
   "metadata": {},
   "outputs": [],
   "source": [
    "comps = np.array([1, 1, 1, 2, 1, 4, 1, 4])\n",
    "\n",
    "# Ref values\n",
    "vals = np.array([71.7,71.7,16.0,16.0, 12.0,12.0, 0.3,0.3])\n",
    "\n",
    "nucs = (['Li', 'F', 'Be', 'F', 'Th', 'F', 'U', 'F'])\n",
    "vals = comps*vals\n",
    "tots = ([vals[0], vals[1] + vals[3] + vals[5] + vals[7], vals[2], vals[4], vals[6]])\n",
    "tots = tots / np.sum(tots) * 100\n",
    "nucs = [nucs[0], nucs[1], nucs[2], nucs[4], nucs[6]]"
   ]
  },
  {
   "cell_type": "code",
   "execution_count": 5,
   "id": "1227ab66",
   "metadata": {},
   "outputs": [
    {
     "data": {
      "text/plain": [
       "array([28.35112693, 60.45867932,  6.32661131,  4.74495848,  0.11862396])"
      ]
     },
     "execution_count": 5,
     "metadata": {},
     "output_type": "execute_result"
    }
   ],
   "source": [
    "tots"
   ]
  },
  {
   "cell_type": "markdown",
   "id": "dd3b2bb0",
   "metadata": {},
   "source": [
    "### Reference Salt"
   ]
  },
  {
   "cell_type": "code",
   "execution_count": 6,
   "id": "e69b6bb8",
   "metadata": {},
   "outputs": [
    {
     "data": {
      "text/plain": [
       "Material\n",
       "\tID             =\t1\n",
       "\tName           =\t\n",
       "\tTemperature    =\tNone\n",
       "\tDensity        =\tNone [sum]\n",
       "\tS(a,b) Tables  \n",
       "\tNuclides       \n",
       "\tLi6            =\t0.01315629377894086 [ao]\n",
       "\tLi7            =\t0.270354975497453 [ao]\n",
       "\tF19            =\t0.6045867931988929 [ao]\n",
       "\tBe9            =\t0.06326611308817714 [ao]\n",
       "\tTh232          =\t0.047449584816132866 [ao]\n",
       "\tU233           =\t0.0011862396204033216 [ao]"
      ]
     },
     "execution_count": 6,
     "metadata": {},
     "output_type": "execute_result"
    }
   ],
   "source": [
    "# reference\n",
    "components = {'Li': {'percent': tots[0]/100, \n",
    "                     'enrichment': 95.995, \n",
    "                     'enrichment_target': 'Li7',\n",
    "                     'enrichment_type': 'wo'}, \n",
    "              'F19': tots[1]/100, \n",
    "              'Be9': tots[2]/100, \n",
    "              'Th232': tots[3]/100, \n",
    "              'U233': tots[4]/100}\n",
    "\n",
    "mat = openmc.Material()\n",
    "mat.add_components(components, percent_type='ao')\n",
    "mat"
   ]
  },
  {
   "cell_type": "code",
   "execution_count": 7,
   "id": "1188493b",
   "metadata": {
    "scrolled": true
   },
   "outputs": [
    {
     "name": "stdout",
     "output_type": "stream",
     "text": [
      "Atom Percent:\n",
      "Li6: 1.315629377894086\n",
      "Li7: 27.0354975497453\n",
      "F19: 60.458679319889285\n",
      "Be9: 6.326611308817714\n",
      "Th232: 4.744958481613287\n",
      "U233: 0.11862396204033215\n",
      "\n",
      "Mass Percent:\n",
      "Li6: 0.31256052647803345\n",
      "Li7: 7.491697313173247\n",
      "F19: 45.36613892305266\n",
      "Be9: 2.2519421042294803\n",
      "Th232: 43.48582294966552\n",
      "U233: 1.091838183401057\n"
     ]
    }
   ],
   "source": [
    "nucs, at_percents, mass_percents = print_percents(mat)"
   ]
  },
  {
   "cell_type": "code",
   "execution_count": 8,
   "id": "b0c4e5ce",
   "metadata": {},
   "outputs": [
    {
     "name": "stdout",
     "output_type": "stream",
     "text": [
      "Li6: 1.315629\n",
      "Li7: 27.035498000000004\n",
      "F19: 60.458679000000004\n",
      "Be9: 6.326611\n",
      "Th232: 4.744958\n",
      "U233: 0.11862400000000001\n"
     ]
    }
   ],
   "source": [
    "# Amounts to put in chapter 4 of thesis\n",
    "for i, nuc in enumerate(nucs):\n",
    "    print(f'{nuc}: {100 * np.round(at_percents[i],8)}')"
   ]
  },
  {
   "cell_type": "code",
   "execution_count": 9,
   "id": "954aba2a",
   "metadata": {},
   "outputs": [
    {
     "data": {
      "text/plain": [
       "0.9999999900000002"
      ]
     },
     "execution_count": 9,
     "metadata": {},
     "output_type": "execute_result"
    }
   ],
   "source": [
    "np.sum([np.round(at_percents[i], 8) for i in range(0,len(nucs))])"
   ]
  },
  {
   "cell_type": "code",
   "execution_count": 10,
   "id": "52ccbfea",
   "metadata": {},
   "outputs": [
    {
     "name": "stdout",
     "output_type": "stream",
     "text": [
      "Li6: 0.312561\n",
      "Li7: 7.491697\n",
      "F19: 45.366139\n",
      "Be9: 2.2519419999999997\n",
      "Th232: 43.485823\n",
      "U233: 1.091838\n"
     ]
    }
   ],
   "source": [
    "# Amounts to put in chapter 4 of thesis\n",
    "for i, nuc in enumerate(nucs):\n",
    "    print(f'{nuc}: {100 * np.round(mass_percents[i],8)}')\n",
    "    "
   ]
  },
  {
   "cell_type": "code",
   "execution_count": 11,
   "id": "d9d8441b",
   "metadata": {},
   "outputs": [
    {
     "data": {
      "text/plain": [
       "1.0"
      ]
     },
     "execution_count": 11,
     "metadata": {},
     "output_type": "execute_result"
    }
   ],
   "source": [
    "np.sum([np.round(mass_percents[i], 8) for i in range(0,len(nucs))])"
   ]
  },
  {
   "cell_type": "markdown",
   "id": "268574f2",
   "metadata": {},
   "source": [
    "## Model Salt"
   ]
  },
  {
   "cell_type": "code",
   "execution_count": 12,
   "id": "f567a508",
   "metadata": {},
   "outputs": [
    {
     "data": {
      "text/plain": [
       "array([28.38773492, 60.43521266,  6.33036597,  4.74777448,  0.09891197])"
      ]
     },
     "execution_count": 12,
     "metadata": {},
     "output_type": "execute_result"
    }
   ],
   "source": [
    "# Optimized values\n",
    "vals = np.array([71.75,71.75,16.0,16.0, 12.0,12.0, 0.25,0.25])\n",
    "\n",
    "vals = comps*vals\n",
    "tots = ([vals[0], vals[1] + vals[3] + vals[5] + vals[7], vals[2], vals[4], vals[6]])\n",
    "x0 = tots\n",
    "tots = tots / np.sum(tots) * 100\n",
    "tots"
   ]
  },
  {
   "cell_type": "code",
   "execution_count": 13,
   "id": "e655c502",
   "metadata": {},
   "outputs": [
    {
     "data": {
      "text/plain": [
       "Material\n",
       "\tID             =\t2\n",
       "\tName           =\t\n",
       "\tTemperature    =\tNone\n",
       "\tDensity        =\tNone [sum]\n",
       "\tS(a,b) Tables  \n",
       "\tNuclides       \n",
       "\tLi7            =\t0.2838773491592483 [ao]\n",
       "\tF19            =\t0.6043521266073195 [ao]\n",
       "\tBe9            =\t0.06330365974282888 [ao]\n",
       "\tTh232          =\t0.04747774480712166 [ao]\n",
       "\tU233           =\t0.0009891196834817012 [ao]"
      ]
     },
     "execution_count": 13,
     "metadata": {},
     "output_type": "execute_result"
    }
   ],
   "source": [
    "components = {'Li7': tots[0]/100, \n",
    "              'F19': tots[1]/100, \n",
    "              'Be9': tots[2]/100, \n",
    "              'Th232': tots[3]/100, \n",
    "              'U233': tots[4]/100}\n",
    "\n",
    "mat = openmc.Material()\n",
    "mat.add_components(components, percent_type='ao')\n",
    "mat"
   ]
  },
  {
   "cell_type": "code",
   "execution_count": 14,
   "id": "f03831dc",
   "metadata": {},
   "outputs": [
    {
     "name": "stdout",
     "output_type": "stream",
     "text": [
      "Atom Percent:\n",
      "Li7: 28.387734915924828\n",
      "F19: 60.43521266073195\n",
      "Be9: 6.330365974282888\n",
      "Th232: 4.747774480712167\n",
      "U233: 0.09891196834817012\n",
      "\n",
      "Mass Percent:\n",
      "Li7: 7.875052818898849\n",
      "F19: 45.39835279026769\n",
      "Be9: 2.2557541472019182\n",
      "Th232: 43.55943488909532\n",
      "U233: 0.911405354536209\n"
     ]
    }
   ],
   "source": [
    "nucs, at_percents, mass_percents = print_percents(mat)"
   ]
  },
  {
   "cell_type": "code",
   "execution_count": 15,
   "id": "44f31ee4",
   "metadata": {},
   "outputs": [
    {
     "name": "stdout",
     "output_type": "stream",
     "text": [
      "Li7: 28.387734999999996\n",
      "F19: 60.435213\n",
      "Be9: 6.330366\n",
      "Th232: 4.747774\n",
      "U233: 0.098912\n"
     ]
    }
   ],
   "source": [
    "# Amounts to put in chapter 4 of thesis\n",
    "for i, nuc in enumerate(nucs):\n",
    "    print(f'{nuc}: {100 * np.round(at_percents[i],8)}')\n",
    "    "
   ]
  },
  {
   "cell_type": "code",
   "execution_count": 16,
   "id": "bcf16eec",
   "metadata": {},
   "outputs": [
    {
     "data": {
      "text/plain": [
       "0.9999999999999999"
      ]
     },
     "execution_count": 16,
     "metadata": {},
     "output_type": "execute_result"
    }
   ],
   "source": [
    "np.sum([np.round(at_percents[i], 8) for i in range(0,len(nucs))])"
   ]
  },
  {
   "cell_type": "code",
   "execution_count": 17,
   "id": "3747cc4c",
   "metadata": {},
   "outputs": [
    {
     "name": "stdout",
     "output_type": "stream",
     "text": [
      "Li7: 7.875053\n",
      "F19: 45.398353\n",
      "Be9: 2.255754\n",
      "Th232: 43.559435\n",
      "U233: 0.911405\n"
     ]
    }
   ],
   "source": [
    "# Amounts to put in chapter 4 of thesis\n",
    "for i, nuc in enumerate(nucs):\n",
    "    print(f'{nuc}: {100 * np.round(mass_percents[i],8)}')\n",
    "    "
   ]
  },
  {
   "cell_type": "code",
   "execution_count": 18,
   "id": "f3891ba6",
   "metadata": {},
   "outputs": [
    {
     "data": {
      "text/plain": [
       "1.0"
      ]
     },
     "execution_count": 18,
     "metadata": {},
     "output_type": "execute_result"
    }
   ],
   "source": [
    "np.sum([np.round(mass_percents[i], 8) for i in range(0,len(nucs))])"
   ]
  },
  {
   "cell_type": "code",
   "execution_count": 19,
   "id": "843ce979",
   "metadata": {},
   "outputs": [
    {
     "data": {
      "text/plain": [
       "Material\n",
       "\tID             =\t3\n",
       "\tName           =\t\n",
       "\tTemperature    =\tNone\n",
       "\tDensity        =\tNone [sum]\n",
       "\tS(a,b) Tables  \n",
       "\tNuclides       \n",
       "\tLi7            =\t0.0787474673879085 [wo]\n",
       "\tF19            =\t0.454003012179284 [wo]\n",
       "\tBe9            =\t0.0225566879138321 [wo]\n",
       "\tTh232          =\t0.435579130482336 [wo]\n",
       "\tU233           =\t0.00911370203663893 [wo]"
      ]
     },
     "execution_count": 19,
     "metadata": {},
     "output_type": "execute_result"
    }
   ],
   "source": [
    "# Values in mats/msbr_saltproc_prepr_comp.ini\n",
    "components = {'Li7': 7.87474673879085/100, \n",
    "              'F19': 45.4003012179284/100, \n",
    "              'Be9': 2.25566879138321/100, \n",
    "              'Th232': 43.5579130482336/100, \n",
    "              'U233': 0.911370203663893/100}\n",
    "\n",
    "mat = openmc.Material()\n",
    "mat.add_components(components, percent_type='wo')\n",
    "mat"
   ]
  },
  {
   "cell_type": "code",
   "execution_count": 20,
   "id": "445055f9",
   "metadata": {},
   "outputs": [
    {
     "name": "stdout",
     "output_type": "stream",
     "text": [
      "Mass Percent:\n",
      "Li7: 7.87474673879085\n",
      "F19: 45.4003012179284\n",
      "Be9: 2.25566879138321\n",
      "Th232: 43.5579130482336\n",
      "U233: 0.9113702036638929\n",
      "\n",
      "Atom Percent:\n",
      "Li7: 28.386324651090604\n",
      "F19: 60.43715299180763\n",
      "Be9: 6.330057997083041\n",
      "Th232: 4.747557275882828\n",
      "U233: 0.09890708413590246\n"
     ]
    }
   ],
   "source": [
    "nucs, at_percents, mass_percents = print_percents(mat, percent_type='wo')"
   ]
  },
  {
   "cell_type": "code",
   "execution_count": 21,
   "id": "4efd75e0",
   "metadata": {},
   "outputs": [],
   "source": [
    "# Fixed point iteration to find the values for the actual refs\n",
    "x1, x2, x3, x4, x5 = at_percents\n",
    "\n",
    "A = np.array([[x1, x1, x1, x1, x1],\n",
    "              [x2, x2, x2, x2, x2],\n",
    "              [x3, x3, x3, x3, x3],\n",
    "              [x4, x4, x4, x4, x4],\n",
    "              [x5, x5, x5, x5, x5]])\n",
    "x = x0\n",
    "x_new = np.dot(A,x)\n",
    "\n",
    "i = 1\n",
    "# Fixed point iteration\n",
    "while not(np.all(x_new == x)):\n",
    "    i += 1\n",
    "    x = x_new\n",
    "    x_new = np.dot(A, x)"
   ]
  },
  {
   "cell_type": "code",
   "execution_count": 22,
   "id": "03e61097",
   "metadata": {},
   "outputs": [
    {
     "data": {
      "text/plain": [
       "array([ 71.74643556, 152.75490419,  15.99922159,  11.99945101,\n",
       "         0.24998766])"
      ]
     },
     "execution_count": 22,
     "metadata": {},
     "output_type": "execute_result"
    }
   ],
   "source": [
    "x"
   ]
  },
  {
   "cell_type": "code",
   "execution_count": 23,
   "id": "248d1e98",
   "metadata": {},
   "outputs": [
    {
     "data": {
      "text/plain": [
       "[71.75, 152.75, 16.0, 12.0, 0.25]"
      ]
     },
     "execution_count": 23,
     "metadata": {},
     "output_type": "execute_result"
    }
   ],
   "source": [
    "x0"
   ]
  },
  {
   "cell_type": "markdown",
   "id": "b8a5aa79",
   "metadata": {},
   "source": [
    "It looks like the difference is due to rounding errors/differences in the mass values used."
   ]
  },
  {
   "cell_type": "markdown",
   "id": "769ee4ff",
   "metadata": {},
   "source": [
    "## Hastelloy N"
   ]
  },
  {
   "cell_type": "code",
   "execution_count": 24,
   "id": "238611f1",
   "metadata": {},
   "outputs": [],
   "source": [
    "components = {'Mo': 0.12, \n",
    "              'Cr': 0.07,\n",
    "              'Fe': 0.03,\n",
    "              'C': 0.0006,\n",
    "              'Mn': 0.0035,\n",
    "              'Si': 0.001,\n",
    "              'W': 0.001,\n",
    "              'Al': 0.001,\n",
    "              'Ti': 0.0125, #avg\n",
    "              'Cu': 0.001,\n",
    "              'Co': 0.002,\n",
    "              'P': 0.00015,\n",
    "              'S': 0.00015,\n",
    "              'B': 0.000010,\n",
    "              'Hf': 0.01,\n",
    "              'Nb': 0.01}\n",
    "\n",
    "tot = 0\n",
    "wts = []\n",
    "for nuc, wt in components.items():\n",
    "    wts.append(wt*100)\n",
    "    tot += wt\n",
    "nickel = 1 - tot\n",
    "\n",
    "components.update({'Ni': nickel})"
   ]
  },
  {
   "cell_type": "code",
   "execution_count": 25,
   "id": "6b32d17f",
   "metadata": {},
   "outputs": [
    {
     "name": "stdout",
     "output_type": "stream",
     "text": [
      "Mo: 12.0\n",
      "Cr: 7.000000000000001\n",
      "Fe: 3.0\n",
      "C: 0.06\n",
      "Mn: 0.35000000000000003\n",
      "Si: 0.1\n",
      "W: 0.1\n",
      "Al: 0.1\n",
      "Ti: 1.25\n",
      "Cu: 0.1\n",
      "Co: 0.2\n",
      "P: 0.015\n",
      "S: 0.015\n",
      "B: 0.001\n",
      "Hf: 1.0\n",
      "Nb: 1.0\n",
      "Ni: 73.709\n"
     ]
    }
   ],
   "source": [
    "elem_mass = []\n",
    "elem_wt = []\n",
    "elems = []\n",
    "for elem, wt in components.items():\n",
    "    elem_mass.append(atomic_weight(elem))\n",
    "    elem_wt.append(wt)\n",
    "    elems.append(elem)\n",
    "    \n",
    "elem_mass = np.array(elem_mass)\n",
    "elem_wt = np.array(elem_wt)\n",
    "\n",
    "elem_at = (elem_wt / elem_mass) / (np.sum(elem_wt/elem_mass))\n",
    "\n",
    "\n",
    "for i, elem in enumerate(elems):\n",
    "    print(f'{elem}: {elem_wt[i] * 100}')"
   ]
  },
  {
   "cell_type": "code",
   "execution_count": 26,
   "id": "fcb6d247",
   "metadata": {},
   "outputs": [
    {
     "name": "stdout",
     "output_type": "stream",
     "text": [
      "Mo: 7.64\n",
      "Cr: 8.224\n",
      "Fe: 3.282\n",
      "C: 0.305\n",
      "Mn: 0.38899999999999996\n",
      "Si: 0.218\n",
      "W: 0.033\n",
      "Al: 0.22599999999999998\n",
      "Ti: 1.595\n",
      "Cu: 0.096\n",
      "Co: 0.207\n",
      "P: 0.03\n",
      "S: 0.029\n",
      "B: 0.006\n",
      "Hf: 0.34199999999999997\n",
      "Nb: 0.658\n",
      "Ni: 76.72\n"
     ]
    }
   ],
   "source": [
    "# Amounts to put in chapter 4 of thesis\n",
    "for i, elem in enumerate(elems):\n",
    "    print(f'{elem}: {np.round(elem_at[i], 5) * 100}')"
   ]
  },
  {
   "cell_type": "code",
   "execution_count": 27,
   "id": "75483214",
   "metadata": {},
   "outputs": [
    {
     "data": {
      "text/plain": [
       "Material\n",
       "\tID             =\t4\n",
       "\tName           =\t\n",
       "\tTemperature    =\tNone\n",
       "\tDensity        =\tNone [sum]\n",
       "\tS(a,b) Tables  \n",
       "\tNuclides       \n",
       "\tMo100          =\t0.012175225961647808 [wo]\n",
       "\tMo92           =\t0.01683826965647346 [wo]\n",
       "\tMo94           =\t0.010789582056756033 [wo]\n",
       "\tMo95           =\t0.018840557266836578 [wo]\n",
       "\tMo96           =\t0.01999840362163272 [wo]\n",
       "\tMo97           =\t0.011613114609036522 [wo]\n",
       "\tMo98           =\t0.02974484682761688 [wo]\n",
       "\tCr50           =\t0.0029215806359028196 [wo]\n",
       "\tCr52           =\t0.058589553645942136 [wo]\n",
       "\tCr53           =\t0.006771510773072629 [wo]\n",
       "\tCr54           =\t0.00171735494508243 [wo]\n",
       "\tFe54           =\t0.0016936674668120565 [wo]\n",
       "\tFe56           =\t0.027570458633868738 [wo]\n",
       "\tFe57           =\t0.0006481105841023909 [wo]\n",
       "\tFe58           =\t8.776331521681765e-05 [wo]\n",
       "\tC0             =\t0.0006       [wo]\n",
       "\tMn55           =\t0.0035       [wo]\n",
       "\tSi28           =\t0.0009187351728283676 [wo]\n",
       "\tSi29           =\t4.831750292786396e-05 [wo]\n",
       "\tSi30           =\t3.2947324243768426e-05 [wo]\n",
       "\tW180           =\t1.174575531392815e-06 [wo]\n",
       "\tW182           =\t0.00026227049476287324 [wo]\n",
       "\tW183           =\t0.0001424060252844692 [wo]\n",
       "\tW184           =\t0.000306581920873831 [wo]\n",
       "\tW186           =\t0.00028756698354743377 [wo]\n",
       "\tAl27           =\t0.001        [wo]\n",
       "\tTi46           =\t0.0009900119019720071 [wo]\n",
       "\tTi47           =\t0.0009122227903994025 [wo]\n",
       "\tTi48           =\t0.009230631531977933 [wo]\n",
       "\tTi49           =\t0.0006915238172711496 [wo]\n",
       "\tTi50           =\t0.0006756099583795079 [wo]\n",
       "\tCu63           =\t0.0006847919520523901 [wo]\n",
       "\tCu65           =\t0.00031520804794761 [wo]\n",
       "\tCo59           =\t0.002        [wo]\n",
       "\tP31            =\t0.00015      [wo]\n",
       "\tS32            =\t0.00014215291621241376 [wo]\n",
       "\tS33            =\t1.154822906631053e-06 [wo]\n",
       "\tS34            =\t6.667728601314034e-06 [wo]\n",
       "\tS36            =\t2.4532279641130547e-08 [wo]\n",
       "\tB10            =\t1.835549587507326e-06 [wo]\n",
       "\tB11            =\t8.164450412492673e-06 [wo]\n",
       "\tHf174          =\t1.5592576781201616e-05 [wo]\n",
       "\tHf176          =\t0.0005185040271645928 [wo]\n",
       "\tHf177          =\t0.0018439333432437896 [wo]\n",
       "\tHf178          =\t0.002719727077160886 [wo]\n",
       "\tHf179          =\t0.0013655166554538101 [wo]\n",
       "\tHf180          =\t0.0035367263201957194 [wo]\n",
       "\tNb93           =\t0.01         [wo]\n",
       "\tNi58           =\t0.49530756597063447 [wo]\n",
       "\tNi60           =\t0.19736294493393117 [wo]\n",
       "\tNi61           =\t0.00872242148181352 [wo]\n",
       "\tNi62           =\t0.028266091716773578 [wo]\n",
       "\tNi64           =\t0.007430975896847314 [wo]"
      ]
     },
     "execution_count": 27,
     "metadata": {},
     "output_type": "execute_result"
    }
   ],
   "source": [
    "mat = openmc.Material()\n",
    "mat.add_components(components, percent_type='wo')\n",
    "mat"
   ]
  }
 ],
 "metadata": {
  "kernelspec": {
   "display_name": "Python [conda env:miniconda3-saltproc-env]",
   "language": "python",
   "name": "conda-env-miniconda3-saltproc-env-py"
  },
  "language_info": {
   "codemirror_mode": {
    "name": "ipython",
    "version": 3
   },
   "file_extension": ".py",
   "mimetype": "text/x-python",
   "name": "python",
   "nbconvert_exporter": "python",
   "pygments_lexer": "ipython3",
   "version": "3.9.13"
  }
 },
 "nbformat": 4,
 "nbformat_minor": 5
}
