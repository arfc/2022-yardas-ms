{
 "cells": [
  {
   "cell_type": "code",
   "execution_count": 1,
   "id": "e272d0d3",
   "metadata": {},
   "outputs": [],
   "source": [
    "import openmc\n",
    "import numpy as np\n",
    "from openmc.data import AVOGADRO, atomic_mass, atomic_weight"
   ]
  },
  {
   "cell_type": "code",
   "execution_count": 2,
   "id": "eb480df8",
   "metadata": {},
   "outputs": [],
   "source": [
    "def salt_dens_f(t):\n",
    "    return 235.0 - (0.02317 * t)\n",
    "\n",
    "def salt_dens(t):\n",
    "    return 3.752 - (6.68e-4 * t)\n",
    "\n",
    "def print_percents(mat):\n",
    "    at_percents = []\n",
    "    nucs = []\n",
    "    at_mass = []\n",
    "    for nuc, pt, tp in mat.nuclides:\n",
    "        nucs.append(nuc)\n",
    "        at_percents.append(pt)\n",
    "        at_mass.append(atomic_mass(nuc))\n",
    "\n",
    "    at_percents = np.array(at_percents)\n",
    "    at_mass = np.array(at_mass)\n",
    "    print('Atom Percent:')\n",
    "    for i, nuc in enumerate(nucs):\n",
    "        print(f'{nuc}: {100 * at_percents[i]}')\n",
    "        \n",
    "    mass_percents = at_percents*at_mass / np.dot(at_percents, at_mass)\n",
    "    print('\\nMass Percent:')\n",
    "    for i, nuc in enumerate(nucs):\n",
    "        print(f'{nuc}: {mass_percents[i] * 100}')\n",
    "    \n",
    "    return nucs, at_percents, mass_percents"
   ]
  },
  {
   "cell_type": "code",
   "execution_count": 3,
   "id": "c2511e77",
   "metadata": {},
   "outputs": [
    {
     "data": {
      "text/plain": [
       "3.3332642"
      ]
     },
     "execution_count": 3,
     "metadata": {},
     "output_type": "execute_result"
    }
   ],
   "source": [
    "salt_dens(900-273.15)"
   ]
  },
  {
   "cell_type": "code",
   "execution_count": 4,
   "id": "106a3318",
   "metadata": {},
   "outputs": [],
   "source": [
    "comps = np.array([1/2, 1/2, 1/3, 2/3, 1/5, 4/5, 1/5, 4/5])\n",
    "vals = np.array([71.7,71.7,16.0,16.0, 12.0,12.0, 0.3,0.3])\n",
    "nucs = (['Li', 'F', 'Be', 'F', 'Th', 'F', 'U', 'F'])\n",
    "vals = comps*vals\n",
    "tots = ([vals[0], vals[1] + vals[3] + vals[5] + vals[7], vals[2], vals[4], vals[6]])\n",
    "nucs = [nucs[0], nucs[1], nucs[2], nucs[4], nucs[6]]"
   ]
  },
  {
   "cell_type": "code",
   "execution_count": 5,
   "id": "1227ab66",
   "metadata": {},
   "outputs": [
    {
     "data": {
      "text/plain": [
       "[35.85, 56.35666666666667, 5.333333333333333, 2.4000000000000004, 0.06]"
      ]
     },
     "execution_count": 5,
     "metadata": {},
     "output_type": "execute_result"
    }
   ],
   "source": [
    "tots"
   ]
  },
  {
   "cell_type": "markdown",
   "id": "dd3b2bb0",
   "metadata": {},
   "source": [
    "### Reference Salt"
   ]
  },
  {
   "cell_type": "code",
   "execution_count": 6,
   "id": "e69b6bb8",
   "metadata": {},
   "outputs": [
    {
     "data": {
      "text/plain": [
       "Material\n",
       "\tID             =\t1\n",
       "\tName           =\t\n",
       "\tTemperature    =\tNone\n",
       "\tDensity        =\tNone [sum]\n",
       "\tS(a,b) Tables  \n",
       "\tNuclides       \n",
       "\tLi6            =\t0.014357924999999968 [ao]\n",
       "\tLi7            =\t0.344142075  [ao]\n",
       "\tF19            =\t0.5635666666666667 [ao]\n",
       "\tBe9            =\t0.05333333333333333 [ao]\n",
       "\tTh232          =\t0.024        [ao]\n",
       "\tU233           =\t0.0006       [ao]"
      ]
     },
     "execution_count": 6,
     "metadata": {},
     "output_type": "execute_result"
    }
   ],
   "source": [
    "# reference\n",
    "components = {'Li': {'percent': 0.3585, \n",
    "                     'enrichment': 95.995, \n",
    "                     'enrichment_target': 'Li7'}, \n",
    "              'F19': tots[1]/100, \n",
    "              'Be9': tots[2]/100, \n",
    "              'Th232': 2.4/100, \n",
    "              'U233': 0.06/100}\n",
    "\n",
    "mat = openmc.Material()\n",
    "mat.add_components(components, percent_type='ao')\n",
    "mat"
   ]
  },
  {
   "cell_type": "code",
   "execution_count": 7,
   "id": "1188493b",
   "metadata": {},
   "outputs": [
    {
     "name": "stdout",
     "output_type": "stream",
     "text": [
      "Atom Percent:\n",
      "Li6: 1.4357924999999967\n",
      "Li7: 34.414207499999996\n",
      "F19: 56.35666666666667\n",
      "Be9: 5.333333333333333\n",
      "Th232: 2.4\n",
      "U233: 0.06\n",
      "\n",
      "Mass Percent:\n",
      "Li6: 0.44524487252568634\n",
      "Li7: 12.447734256968703\n",
      "F19: 55.198228450282\n",
      "Be9: 2.4779439297636796\n",
      "Th232: 28.71000034962854\n",
      "U233: 0.720848140831377\n"
     ]
    }
   ],
   "source": [
    "nucs, at_percents, mass_percents = print_percents(mat)"
   ]
  },
  {
   "cell_type": "code",
   "execution_count": 8,
   "id": "52ccbfea",
   "metadata": {},
   "outputs": [
    {
     "name": "stdout",
     "output_type": "stream",
     "text": [
      "Li6: 0.4452449\n",
      "Li7: 12.4477343\n",
      "F19: 55.1982285\n",
      "Be9: 2.4779439\n",
      "Th232: 28.7100003\n",
      "U233: 0.7208481\n"
     ]
    }
   ],
   "source": [
    "# Amounts to put in chapter 4 of thesis\n",
    "for i, nuc in enumerate(nucs):\n",
    "    print(f'{nuc}: {100 * np.round(mass_percents[i],9)}')\n",
    "    "
   ]
  },
  {
   "cell_type": "markdown",
   "id": "268574f2",
   "metadata": {},
   "source": [
    "## Model Salt"
   ]
  },
  {
   "cell_type": "code",
   "execution_count": 9,
   "id": "e655c502",
   "metadata": {},
   "outputs": [
    {
     "data": {
      "text/plain": [
       "Material\n",
       "\tID             =\t2\n",
       "\tName           =\t\n",
       "\tTemperature    =\tNone\n",
       "\tDensity        =\tNone [sum]\n",
       "\tS(a,b) Tables  \n",
       "\tNuclides       \n",
       "\tLi7            =\t0.3585       [ao]\n",
       "\tF19            =\t0.5635666666666667 [ao]\n",
       "\tBe9            =\t0.05333333333333333 [ao]\n",
       "\tTh232          =\t0.024        [ao]\n",
       "\tU233           =\t0.0006       [ao]"
      ]
     },
     "execution_count": 9,
     "metadata": {},
     "output_type": "execute_result"
    }
   ],
   "source": [
    "components = {'Li7': 0.3585, \n",
    "              'F19': tots[1]/100, \n",
    "              'Be9': tots[2]/100, \n",
    "              'Th232': 2.4/100, \n",
    "              'U233': 0.06/100}\n",
    "\n",
    "mat = openmc.Material()\n",
    "mat.add_components(components, percent_type='ao')\n",
    "mat"
   ]
  },
  {
   "cell_type": "code",
   "execution_count": 10,
   "id": "f03831dc",
   "metadata": {},
   "outputs": [
    {
     "name": "stdout",
     "output_type": "stream",
     "text": [
      "Atom Percent:\n",
      "Li7: 35.85\n",
      "F19: 56.35666666666667\n",
      "Be9: 5.333333333333333\n",
      "Th232: 2.4\n",
      "U233: 0.06\n",
      "\n",
      "Mass Percent:\n",
      "Li7: 12.957465539473384\n",
      "F19: 55.15736451584381\n",
      "Be9: 2.4761094770805\n",
      "Th232: 28.688745979607145\n",
      "U233: 0.7203144879951567\n"
     ]
    }
   ],
   "source": [
    "nucs, at_percents, mass_percents = print_percents(mat)"
   ]
  },
  {
   "cell_type": "code",
   "execution_count": 11,
   "id": "9af2ada9",
   "metadata": {},
   "outputs": [],
   "source": [
    "#for i, nuc in enumerate(nucs):\n",
    "#    print(f'{nuc}: {mass_percents[i]}')\n",
    "    "
   ]
  },
  {
   "cell_type": "code",
   "execution_count": 12,
   "id": "3747cc4c",
   "metadata": {},
   "outputs": [
    {
     "name": "stdout",
     "output_type": "stream",
     "text": [
      "Li7: 12.957466\n",
      "F19: 55.157365000000006\n",
      "Be9: 2.476109\n",
      "Th232: 28.688746\n",
      "U233: 0.720314\n"
     ]
    }
   ],
   "source": [
    "# Amounts to put in chapter 4 of thesis\n",
    "for i, nuc in enumerate(nucs):\n",
    "    print(f'{nuc}: {100 * np.round(mass_percents[i],8)}')\n",
    "    "
   ]
  },
  {
   "cell_type": "markdown",
   "id": "769ee4ff",
   "metadata": {},
   "source": [
    "## Hastelloy N"
   ]
  },
  {
   "cell_type": "code",
   "execution_count": 13,
   "id": "238611f1",
   "metadata": {},
   "outputs": [],
   "source": [
    "components = {'Mo': 0.12, \n",
    "              'Cr': 0.07,\n",
    "              'Fe': 0.03,\n",
    "              'C': 0.0006,\n",
    "              'Mn': 0.0035,\n",
    "              'Si': 0.001,\n",
    "              'W': 0.001,\n",
    "              'Al': 0.001,\n",
    "              'Ti': 0.0125, #avg\n",
    "              'Cu': 0.001,\n",
    "              'Co': 0.002,\n",
    "              'P': 0.00015,\n",
    "              'S': 0.00015,\n",
    "              'B': 0.000010,\n",
    "              'Hf': 0.01,\n",
    "              'Nb': 0.01}\n",
    "\n",
    "tot = 0\n",
    "wts = []\n",
    "for nuc, wt in components.items():\n",
    "    wts.append(wt*100)\n",
    "    tot += wt\n",
    "nickel = 1 - tot\n",
    "\n",
    "components.update({'Ni': nickel})"
   ]
  },
  {
   "cell_type": "code",
   "execution_count": 14,
   "id": "6b32d17f",
   "metadata": {},
   "outputs": [
    {
     "name": "stdout",
     "output_type": "stream",
     "text": [
      "Mo: 12.0\n",
      "Cr: 7.000000000000001\n",
      "Fe: 3.0\n",
      "C: 0.06\n",
      "Mn: 0.35000000000000003\n",
      "Si: 0.1\n",
      "W: 0.1\n",
      "Al: 0.1\n",
      "Ti: 1.25\n",
      "Cu: 0.1\n",
      "Co: 0.2\n",
      "P: 0.015\n",
      "S: 0.015\n",
      "B: 0.001\n",
      "Hf: 1.0\n",
      "Nb: 1.0\n",
      "Ni: 73.709\n"
     ]
    }
   ],
   "source": [
    "elem_mass = []\n",
    "elem_wt = []\n",
    "elems = []\n",
    "for elem, wt in components.items():\n",
    "    elem_mass.append(atomic_weight(elem))\n",
    "    elem_wt.append(wt)\n",
    "    elems.append(elem)\n",
    "    \n",
    "elem_mass = np.array(elem_mass)\n",
    "elem_wt = np.array(elem_wt)\n",
    "\n",
    "elem_at = (elem_wt / elem_mass) / (np.sum(elem_wt/elem_mass))\n",
    "\n",
    "\n",
    "for i, elem in enumerate(elems):\n",
    "    print(f'{elem}: {elem_wt[i] * 100}')"
   ]
  },
  {
   "cell_type": "code",
   "execution_count": 15,
   "id": "fcb6d247",
   "metadata": {},
   "outputs": [
    {
     "name": "stdout",
     "output_type": "stream",
     "text": [
      "Mo: 7.64\n",
      "Cr: 8.224\n",
      "Fe: 3.282\n",
      "C: 0.305\n",
      "Mn: 0.38899999999999996\n",
      "Si: 0.218\n",
      "W: 0.033\n",
      "Al: 0.22599999999999998\n",
      "Ti: 1.595\n",
      "Cu: 0.096\n",
      "Co: 0.207\n",
      "P: 0.03\n",
      "S: 0.029\n",
      "B: 0.006\n",
      "Hf: 0.34199999999999997\n",
      "Nb: 0.658\n",
      "Ni: 76.72\n"
     ]
    }
   ],
   "source": [
    "# Amounts to put in chapter 4 of thesis\n",
    "for i, elem in enumerate(elems):\n",
    "    print(f'{elem}: {np.round(elem_at[i], 5) * 100}')"
   ]
  },
  {
   "cell_type": "code",
   "execution_count": 16,
   "id": "75483214",
   "metadata": {},
   "outputs": [
    {
     "data": {
      "text/plain": [
       "Material\n",
       "\tID             =\t3\n",
       "\tName           =\t\n",
       "\tTemperature    =\tNone\n",
       "\tDensity        =\tNone [sum]\n",
       "\tS(a,b) Tables  \n",
       "\tNuclides       \n",
       "\tMo100          =\t0.012175225960709028 [wo]\n",
       "\tMo92           =\t0.016838269656552784 [wo]\n",
       "\tMo94           =\t0.010789582057261462 [wo]\n",
       "\tMo95           =\t0.018840557267706455 [wo]\n",
       "\tMo96           =\t0.01999840362212584 [wo]\n",
       "\tMo97           =\t0.011613114608838517 [wo]\n",
       "\tMo98           =\t0.029744846826805914 [wo]\n",
       "\tCr50           =\t0.002921580575502679 [wo]\n",
       "\tCr52           =\t0.05858955364682328 [wo]\n",
       "\tCr53           =\t0.006771510820966751 [wo]\n",
       "\tCr54           =\t0.001717354956707304 [wo]\n",
       "\tFe54           =\t0.0016936674679200211 [wo]\n",
       "\tFe56           =\t0.027570458631534105 [wo]\n",
       "\tFe57           =\t0.0006481105852150811 [wo]\n",
       "\tFe58           =\t8.776331533079324e-05 [wo]\n",
       "\tC0             =\t0.0006       [wo]\n",
       "\tMn55           =\t0.0035       [wo]\n",
       "\tSi28           =\t0.0009187351728295046 [wo]\n",
       "\tSi29           =\t4.831750292845674e-05 [wo]\n",
       "\tSi30           =\t3.294732424203873e-05 [wo]\n",
       "\tW180           =\t1.1745755317333419e-06 [wo]\n",
       "\tW182           =\t0.000262270494770502 [wo]\n",
       "\tW183           =\t0.0001424060252874687 [wo]\n",
       "\tW184           =\t0.0003065819208728562 [wo]\n",
       "\tW186           =\t0.0002875669835374398 [wo]\n",
       "\tAl27           =\t0.001        [wo]\n",
       "\tTi46           =\t0.0009900119071047102 [wo]\n",
       "\tTi47           =\t0.0009122227902740746 [wo]\n",
       "\tTi48           =\t0.009230631528488601 [wo]\n",
       "\tTi49           =\t0.0006915238166661852 [wo]\n",
       "\tTi50           =\t0.0006756099574664301 [wo]\n",
       "\tCu63           =\t0.0006847919524171369 [wo]\n",
       "\tCu65           =\t0.0003152080475828631 [wo]\n",
       "\tCo59           =\t0.002        [wo]\n",
       "\tP31            =\t0.00015      [wo]\n",
       "\tS32            =\t0.0001421529162123894 [wo]\n",
       "\tS33            =\t1.154822906641789e-06 [wo]\n",
       "\tS34            =\t6.667728601323577e-06 [wo]\n",
       "\tS36            =\t2.453227964521797e-08 [wo]\n",
       "\tB10            =\t1.835549587507326e-06 [wo]\n",
       "\tB11            =\t8.164450412492673e-06 [wo]\n",
       "\tHf174          =\t1.55925767789418e-05 [wo]\n",
       "\tHf176          =\t0.000518504027100689 [wo]\n",
       "\tHf177          =\t0.0018439333432706492 [wo]\n",
       "\tHf178          =\t0.0027197270772042928 [wo]\n",
       "\tHf179          =\t0.0013655166554622142 [wo]\n",
       "\tHf180          =\t0.0035367263201832133 [wo]\n",
       "\tNb93           =\t0.01         [wo]\n",
       "\tNi58           =\t0.49530756599702 [wo]\n",
       "\tNi60           =\t0.19736294491982 [wo]\n",
       "\tNi61           =\t0.008722421480743293 [wo]\n",
       "\tNi62           =\t0.02826609170871261 [wo]\n",
       "\tNi64           =\t0.007430975893704046 [wo]"
      ]
     },
     "execution_count": 16,
     "metadata": {},
     "output_type": "execute_result"
    }
   ],
   "source": [
    "mat = openmc.Material()\n",
    "mat.add_components(components, percent_type='wo')\n",
    "mat"
   ]
  }
 ],
 "metadata": {
  "kernelspec": {
   "display_name": "Python [conda env:miniconda3-saltproc-env]",
   "language": "python",
   "name": "conda-env-miniconda3-saltproc-env-py"
  },
  "language_info": {
   "codemirror_mode": {
    "name": "ipython",
    "version": 3
   },
   "file_extension": ".py",
   "mimetype": "text/x-python",
   "name": "python",
   "nbconvert_exporter": "python",
   "pygments_lexer": "ipython3",
   "version": "3.9.13"
  }
 },
 "nbformat": 4,
 "nbformat_minor": 5
}
