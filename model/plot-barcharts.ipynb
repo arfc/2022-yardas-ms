{
 "cells": [
  {
   "cell_type": "code",
   "execution_count": 1,
   "id": "04b108cb",
   "metadata": {},
   "outputs": [],
   "source": [
    "import matplotlib.pyplot as plt\n",
    "from matplotlib import rcParams\n",
    "import matplotlib.ticker as mtick\n",
    "import numpy as np\n",
    "\n",
    "from plot_helpers import load_results, sup_label, _load_results_helper\n",
    "\n",
    "# customizations\n",
    "rcParams['axes.autolimit_mode'] = 'round_numbers'\n",
    "rcParams['axes.labelsize'] = 'large'\n",
    "rcParams['axes.xmargin'] = 0\n",
    "rcParams['axes.ymargin'] = 0\n",
    "rcParams['axes.axisbelow'] = True\n",
    "rcParams['font.family'] = 'serif'\n",
    "rcParams['pdf.use14corefonts'] = True\n",
    "rcParams['savefig.bbox'] = 'tight'\n",
    "rcParams['font.size'] = 12.0\n",
    "rcParams['text.usetex'] = True\n",
    "rcParams['text.latex.preamble'] = r'\\usepackage{amsmath}'\n",
    "\n",
    "plt.style.use('tableau-colorblind10')"
   ]
  },
  {
   "cell_type": "code",
   "execution_count": 5,
   "id": "ff4cbfc5",
   "metadata": {},
   "outputs": [],
   "source": [
    "# omit Am241, Am242, Am242_m1, Cm242, Cm243, Cm245, Cm246\n",
    "actinides = [\n",
    "    'Th232', 'Th233', 'Pa233', 'U233',\n",
    "    'U234', 'U235', 'U236', 'U238', 'U239', 'Np239',\n",
    "    'Pu238', 'Pu239', 'Pu240', 'Pu241', 'Pu242',\n",
    "    #'Am241', 'Am242', 'Am242_m1',\n",
    "    'Am243', 'Am244',\n",
    "    #'Cm242', 'Cm243', \n",
    "    'Cm244', #'Cm245',\n",
    "    #'Cm246',\n",
    "]\n",
    "\n",
    "fission_products = [\n",
    "    'Kr85', 'Sr90', 'Y90', 'Zr93', 'Mo95', 'Mo97', \n",
    "    'Tc99', 'Ru101', 'Ru106',\n",
    "    'Rh103', 'Pd105', 'Pd107', 'Ag109',  'Cd113_m1', 'Sn121_m1', \n",
    "    'Sn126',\n",
    "    'Te132', 'I129', 'I131', 'Xe131', 'Xe135', \n",
    "    'Cs133', 'Cs134', \n",
    "    'Cs135', 'Cs137',\n",
    "    'La139', 'Ce142', 'Nd143', 'Nd145', 'Pm147', 'Sm149', 'Sm151',\n",
    "    'Eu155', 'Gd158',\n",
    "]"
   ]
  },
  {
   "cell_type": "code",
   "execution_count": 14,
   "id": "8c9d7df8",
   "metadata": {},
   "outputs": [
    {
     "data": {
      "text/plain": [
       "15.0"
      ]
     },
     "execution_count": 14,
     "metadata": {},
     "output_type": "execute_result"
    }
   ],
   "source": [
    "time[9]"
   ]
  },
  {
   "cell_type": "code",
   "execution_count": 29,
   "id": "d634d801",
   "metadata": {},
   "outputs": [],
   "source": [
    "def isotope_bar_plot(nuclides_dict, time, nuclides, filename, decimals=2, **kwargs):\n",
    "\n",
    "    print(f'{filename}...')\n",
    "\n",
    "    fig, ax = plt.subplots(**kwargs)\n",
    "    burn_indices = (49, 98, 147, 196)\n",
    "    #burn_indices = (17,39,55,73)\n",
    "    #burn_indices = (237,)\n",
    "    burnup = time\n",
    "    ind = np.arange(len(nuclides))\n",
    "    height = 1/(len(burn_indices)+1)\n",
    "    for i, index in enumerate(burn_indices):\n",
    "        data_base = np.array([nuclides_dict[nuc][1][index] for nuc in nuclides])\n",
    "        data_case = np.array([nuclides_dict[nuc][0][index] for nuc in nuclides])\n",
    "        diff = np.zeros_like(data_case)\n",
    "        nonzero = data_case > 0.0\n",
    "        diff[nonzero] = (data_case[nonzero] - data_base[nonzero])/data_base[nonzero]\n",
    "        ax.barh(ind + i*height, diff, height, label=f'{burnup[index]} days')\n",
    "\n",
    "    locs = ind + height*(len(burn_indices)/2 - 0.5)\n",
    "    ax.xaxis.set_major_formatter(mtick.PercentFormatter(1.0, decimals))\n",
    "    if decimals >= 3:\n",
    "        ax.xaxis.set_tick_params(rotation=30)\n",
    "    ax.set_xlabel('(OpenMC - Serpent)/Serpent')\n",
    "    ax.set_yticks(locs)\n",
    "    ax.set_yticklabels([sup_label(x) for x in nuclides])\n",
    "    ax.set_ylim(locs[0] - 0.5, locs[-1] + 0.5)\n",
    "    ax.invert_yaxis()\n",
    "    ax.legend()\n",
    "    ax.grid()    \n",
    "    fname = f'{filename}'\n",
    "\n",
    "    plt.savefig(f'{fname}.pdf')\n",
    "    plt.close(fig)"
   ]
  },
  {
   "cell_type": "code",
   "execution_count": 30,
   "id": "a301125c",
   "metadata": {},
   "outputs": [
    {
     "name": "stdout",
     "output_type": "stream",
     "text": [
      "../figs/ch5/actinides...\n",
      "../figs/ch5/fission_products...\n"
     ]
    }
   ],
   "source": [
    "nuclides_dict, time = load_results('openmc_results/saltproc_runtime', 'serpent_results/saltproc_runtime', max_idx=237)\n",
    "isotope_bar_plot(nuclides_dict, time, actinides, '../figs/ch5/actinides')\n",
    "kwargs = {'figsize': (6.4, 10.0)}\n",
    "isotope_bar_plot(nuclides_dict, time, fission_products, '../figs/ch5/fission_products', **kwargs)"
   ]
  },
  {
   "cell_type": "code",
   "execution_count": null,
   "id": "ac91a27a",
   "metadata": {},
   "outputs": [],
   "source": [
    "nuclides_dict, time = load_results('openmc_results/saltproc_runtime', 'serpent_results/saltproc_runtime', max_idx=237)\n",
    "isotope_bar_plot(nuclides_dict, time, actinides, '../figs/ch5/actinides')\n",
    "kwargs = {'figsize': (6.4, 10.0)}\n",
    "isotope_bar_plot(nuclides_dict, time, fission_products, '../figs/ch5/fission_products', **kwargs)"
   ]
  },
  {
   "cell_type": "markdown",
   "id": "1d6ce0d8",
   "metadata": {},
   "source": [
    "## Nuclide Investigations"
   ]
  },
  {
   "cell_type": "code",
   "execution_count": 18,
   "id": "1e897bb5",
   "metadata": {},
   "outputs": [],
   "source": [
    "_, openmc_nucs, time = _load_results_helper('openmc_results/saltproc_runtime')\n",
    "_, serpent_nucs, _ = _load_results_helper('serpent_results/saltproc_runtime')"
   ]
  },
  {
   "cell_type": "code",
   "execution_count": 49,
   "id": "7ff48d94",
   "metadata": {},
   "outputs": [
    {
     "name": "stderr",
     "output_type": "stream",
     "text": [
      "/tmp/ipykernel_420251/3787415765.py:15: RuntimeWarning: invalid value encountered in divide\n",
      "  err = (omc_nuc - spn_nuc) / spn_nuc\n"
     ]
    },
    {
     "data": {
      "text/plain": [
       "[<matplotlib.lines.Line2D at 0x7faba4238dd0>]"
      ]
     },
     "execution_count": 49,
     "metadata": {},
     "output_type": "execute_result"
    },
    {
     "data": {
      "image/png": "[encoded data removed]",
      "text/plain": [
       "<Figure size 640x480 with 1 Axes>"
      ]
     },
     "metadata": {},
     "output_type": "display_data"
    },
    {
     "data": {
      "image/png": "[encoded data removed]",
      "text/plain": [
       "<Figure size 640x480 with 1 Axes>"
      ]
     },
     "metadata": {},
     "output_type": "display_data"
    }
   ],
   "source": [
    "i=0\n",
    "j = 237\n",
    "\n",
    "tm = time[i:j]\n",
    "nuc = 'U236'\n",
    "omc_nuc = openmc_nucs[nuc][i:j]\n",
    "spn_nuc = serpent_nucs[nuc][i:j]\n",
    "fig, ax = plt.subplots()\n",
    "ax.plot(tm, spn_nuc, label='serpent')\n",
    "ax.plot(tm, omc_nuc, label='openmc')\n",
    "ax.legend()\n",
    "\n",
    "\n",
    "fig, ax = plt.subplots()\n",
    "err = (omc_nuc - spn_nuc) / spn_nuc\n",
    "for k in range(len(err)):\n",
    "    if np.isnan(err[k]):\n",
    "        if k == 0:\n",
    "            err[k] = 0\n",
    "        else:\n",
    "            err[k] = err[k-1]\n",
    "ax.plot(tm, err)"
   ]
  },
  {
   "cell_type": "code",
   "execution_count": 24,
   "id": "98b3a8a4",
   "metadata": {},
   "outputs": [
    {
     "data": {
      "text/plain": [
       "array([ 0.00000000e+00,  0.00000000e+00,  0.00000000e+00, -1.00000000e+00,\n",
       "       -1.00000000e+00,  2.22730500e+03,  2.22730500e+03,  5.58723465e+02,\n",
       "        5.58723465e+02])"
      ]
     },
     "execution_count": 24,
     "metadata": {},
     "output_type": "execute_result"
    }
   ],
   "source": [
    "err"
   ]
  },
  {
   "cell_type": "code",
   "execution_count": 59,
   "id": "a8cd62af",
   "metadata": {},
   "outputs": [
    {
     "data": {
      "text/plain": [
       "False"
      ]
     },
     "execution_count": 59,
     "metadata": {},
     "output_type": "execute_result"
    }
   ],
   "source": [
    "np.isnan(err[0])"
   ]
  },
  {
   "cell_type": "code",
   "execution_count": 65,
   "id": "167d3917",
   "metadata": {},
   "outputs": [
    {
     "data": {
      "text/plain": [
       "array([ 0.        , -0.00079774, -0.00079774, -0.00078812, -0.00078812,\n",
       "       -0.00078127, -0.00078127, -0.00079755, -0.00079755, -0.00079648,\n",
       "       -0.00079648, -0.00078807, -0.00078807, -0.00079142, -0.00079142,\n",
       "       -0.00079129, -0.00079129, -0.00079811, -0.00079811, -0.00080101,\n",
       "       -0.00080101, -0.00078671, -0.00078671, -0.00078595, -0.00078595,\n",
       "       -0.04838316, -0.04838316, -0.00147144, -0.00147144, -0.00080155,\n",
       "       -0.00080155, -0.00078878, -0.00078878, -0.00079799, -0.00079799,\n",
       "       -0.00079253, -0.00079253, -0.00079711, -0.00079711, -0.00079548,\n",
       "       -0.00079548, -0.00079355, -0.00079355, -0.00078871, -0.00078871,\n",
       "       -0.00079093, -0.00079093, -0.0007957 , -0.0007957 , -0.00078768,\n",
       "       -0.00078768, -0.00079047, -0.00079047, -0.00079608, -0.00079608,\n",
       "       -0.00079726, -0.00079726, -0.00079074, -0.00079074, -0.00079113,\n",
       "       -0.00079113, -0.00079379, -0.00079379, -0.00078781, -0.00078781,\n",
       "       -0.00078868, -0.00078868, -0.00079933, -0.00079933, -0.0007848 ,\n",
       "       -0.0007848 , -0.00079047, -0.00079047, -0.00078325, -0.00078325,\n",
       "       -0.00079246, -0.00079246, -0.00078764, -0.00078764, -0.00079315,\n",
       "       -0.00079315, -0.00078861, -0.00078861, -0.00079597, -0.00079597,\n",
       "       -0.00078592, -0.00078592, -0.00079165, -0.00079165, -0.00079272,\n",
       "       -0.00079272, -0.00079871, -0.00079871, -0.00079083, -0.00079083,\n",
       "       -0.00078648, -0.00078648, -0.0007892 , -0.0007892 , -0.00078944,\n",
       "       -0.00078944, -0.00078888, -0.00078888, -0.00079591, -0.00079591,\n",
       "       -0.00078709, -0.00078709, -0.00078361, -0.00078361, -0.00078985,\n",
       "       -0.00078985, -0.00078743, -0.00078743, -0.00078213, -0.00078213,\n",
       "       -0.00078458, -0.00078458, -0.00079217, -0.00079217, -0.00079143,\n",
       "       -0.00079143, -0.00079503, -0.00079503, -0.00079335, -0.00079335,\n",
       "       -0.00078482, -0.00078482, -0.00078545, -0.00078545, -0.00078449,\n",
       "       -0.00078449, -0.00077996, -0.00077996, -0.0007873 , -0.0007873 ,\n",
       "       -0.00078834, -0.00078834])"
      ]
     },
     "execution_count": 65,
     "metadata": {},
     "output_type": "execute_result"
    }
   ],
   "source": [
    "err"
   ]
  },
  {
   "cell_type": "code",
   "execution_count": 64,
   "id": "61964664",
   "metadata": {},
   "outputs": [
    {
     "name": "stderr",
     "output_type": "stream",
     "text": [
      "/tmp/ipykernel_419238/3215009254.py:1: RuntimeWarning: invalid value encountered in divide\n",
      "  (omc_nuc - spn_nuc)/spn_nuc\n"
     ]
    },
    {
     "data": {
      "text/plain": [
       "array([        nan, -0.00079774,         nan, -0.00078812,         nan,\n",
       "       -0.00078127,         nan, -0.00079755,         nan, -0.00079648,\n",
       "               nan, -0.00078807,         nan, -0.00079142,         nan,\n",
       "       -0.00079129,         nan, -0.00079811,         nan, -0.00080101,\n",
       "               nan, -0.00078671,         nan, -0.00078595,         nan,\n",
       "       -0.04838316,         nan, -0.00147144,         nan, -0.00080155,\n",
       "               nan, -0.00078878,         nan, -0.00079799,         nan,\n",
       "       -0.00079253,         nan, -0.00079711,         nan, -0.00079548,\n",
       "               nan, -0.00079355,         nan, -0.00078871,         nan,\n",
       "       -0.00079093,         nan, -0.0007957 ,         nan, -0.00078768,\n",
       "               nan, -0.00079047,         nan, -0.00079608,         nan,\n",
       "       -0.00079726,         nan, -0.00079074,         nan, -0.00079113,\n",
       "               nan, -0.00079379,         nan, -0.00078781,         nan,\n",
       "       -0.00078868,         nan, -0.00079933,         nan, -0.0007848 ,\n",
       "               nan, -0.00079047,         nan, -0.00078325,         nan,\n",
       "       -0.00079246,         nan, -0.00078764,         nan, -0.00079315,\n",
       "               nan, -0.00078861,         nan, -0.00079597,         nan,\n",
       "       -0.00078592,         nan, -0.00079165,         nan, -0.00079272,\n",
       "               nan, -0.00079871,         nan, -0.00079083,         nan,\n",
       "       -0.00078648,         nan, -0.0007892 ,         nan, -0.00078944,\n",
       "               nan, -0.00078888,         nan, -0.00079591,         nan,\n",
       "       -0.00078709,         nan, -0.00078361,         nan, -0.00078985,\n",
       "               nan, -0.00078743,         nan, -0.00078213,         nan,\n",
       "       -0.00078458,         nan, -0.00079217,         nan, -0.00079143,\n",
       "               nan, -0.00079503,         nan, -0.00079335,         nan,\n",
       "       -0.00078482,         nan, -0.00078545,         nan, -0.00078449,\n",
       "               nan, -0.00077996,         nan, -0.0007873 ,         nan,\n",
       "       -0.00078834,         nan])"
      ]
     },
     "execution_count": 64,
     "metadata": {},
     "output_type": "execute_result"
    }
   ],
   "source": [
    "(omc_nuc - spn_nuc)/spn_nuc"
   ]
  },
  {
   "cell_type": "code",
   "execution_count": null,
   "id": "7ec7ef3c",
   "metadata": {},
   "outputs": [],
   "source": []
  }
 ],
 "metadata": {
  "kernelspec": {
   "display_name": "Python 3 (ipykernel)",
   "language": "python",
   "name": "python3"
  },
  "language_info": {
   "codemirror_mode": {
    "name": "ipython",
    "version": 3
   },
   "file_extension": ".py",
   "mimetype": "text/x-python",
   "name": "python",
   "nbconvert_exporter": "python",
   "pygments_lexer": "ipython3",
   "version": "3.11.3"
  }
 },
 "nbformat": 4,
 "nbformat_minor": 5
}
