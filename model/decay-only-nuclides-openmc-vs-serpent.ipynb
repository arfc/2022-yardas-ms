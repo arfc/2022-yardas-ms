{
 "cells": [
  {
   "cell_type": "markdown",
   "id": "80d4fac8",
   "metadata": {},
   "source": [
    "This notebook demonstrates some limitations with OpenMC w.r.t. handling of decay-only nuclides in SaltProc. In Serpent, decay-only nuclides can be inlcuded in a material definition, and will be appropriately handled when running a burnup simulation. In OpenMC, only nuclides with cross section data can be included in a material, otherwise the program will raise an error. Due to this, decay-only nuclides that _should_ be in a material will start at zero after each processing step in SaltProc when coupled with OpenMC. I believe this is one of the factors that is causing our strange results for certain nuclides. "
   ]
  },
  {
   "cell_type": "markdown",
   "id": "e583ed6b",
   "metadata": {},
   "source": [
    "I will now demonstrate this by loading depletion results for the first two SaltProc timesteps, and comparing nuclides in the OpenMC results to nuclides in the Serpent results"
   ]
  },
  {
   "cell_type": "code",
   "execution_count": 3,
   "id": "e9f773f9",
   "metadata": {},
   "outputs": [],
   "source": [
    "import openmc\n",
    "from openmc.deplete import Results\n",
    "import serpentTools"
   ]
  },
  {
   "cell_type": "code",
   "execution_count": 4,
   "id": "960da546",
   "metadata": {},
   "outputs": [],
   "source": [
    "omc0 = Results('openmc_results/saltproc_runtime/step_0_data/depletion_results.h5')\n",
    "omc1 = Results('openmc_results/saltproc_runtime/step_1_data/depletion_results.h5')\n",
    "\n",
    "spn0 = serpentTools.read('serpent_results/saltproc_runtime/step_0_data/runtime_input.serpent_dep.m')\n",
    "spn1 = serpentTools.read('serpent_results/saltproc_runtime/step_1_data/runtime_input.serpent_dep.m')"
   ]
  },
  {
   "cell_type": "markdown",
   "id": "31cae800",
   "metadata": {},
   "source": [
    "Consider the nuclide $^{245}Cm$. Based on the depletion chain I created, there are 4 ways to generate $^{245}Cm$:\n",
    "\n",
    "1. $^{244}Cm (n,\\gamma)^{245}Cm$, $Q=5520260.0$\n",
    "2. $^{246}Cm (n,2n)^{245}Cm$, $Q=-6457580.0$\n",
    "3. $^{247}Cm (n,3n)^{245}Cm$, $Q=-11613400.0$\n",
    "4. $^{245}Am \\rightarrow(\\beta^-) ^{245}Cm$"
   ]
  },
  {
   "cell_type": "markdown",
   "id": "3ad98174",
   "metadata": {},
   "source": [
    "Let's look at the amounts of all of these in our results files."
   ]
  },
  {
   "cell_type": "code",
   "execution_count": 6,
   "id": "fe3b8bc6",
   "metadata": {},
   "outputs": [],
   "source": [
    "def side_by_side(nuc, omc, spn):\n",
    "    omc_nuc = omc.get_mass('1', nuc, mass_units='g/cm3')[1]\n",
    "    spn_nuc = spn.materials['fuel'].getValues('days', 'mdens', names=[nuc])\n",
    "    print(f'OpenMC: {omc_nuc}')\n",
    "    print(f'Serpent: {spn_nuc}')\n",
    "    "
   ]
  },
  {
   "cell_type": "code",
   "execution_count": 25,
   "id": "cf4975bb",
   "metadata": {},
   "outputs": [
    {
     "name": "stdout",
     "output_type": "stream",
     "text": [
      "[0.0000000e+00 2.4418282e-24]\n"
     ]
    }
   ],
   "source": [
    "print(omc0.get_mass('1', 'Am245', mass_units='g/cm3')[1])"
   ]
  },
  {
   "cell_type": "code",
   "execution_count": 26,
   "id": "b2dca027",
   "metadata": {},
   "outputs": [
    {
     "name": "stdout",
     "output_type": "stream",
     "text": [
      "Cm244\n",
      "OpenMC: [4.05275732e-19 1.21513950e-18]\n",
      "Serpent: [[4.05276e-19 1.21514e-18]]\n",
      "\n",
      "\n",
      "Cm246\n",
      "OpenMC: [4.08604235e-19 7.59518400e-19]\n",
      "Serpent: [[4.08604e-19 7.59502e-19]]\n",
      "\n",
      "\n",
      "Cm247\n",
      "OpenMC: [4.10269973e-19 4.09102944e-19]\n",
      "Serpent: [[4.10270e-19 4.09103e-19]]\n",
      "\n",
      "\n",
      "Am245\n",
      "OpenMC: [0.0000000e+00 2.4418282e-24]\n",
      "Serpent: [[0.0000e+00 2.4466e-24]]\n",
      "\n",
      "\n",
      "Cm245\n",
      "OpenMC: [4.06940822e-19 5.44339652e-19]\n",
      "Serpent: [[4.06941e-19 5.42227e-19]]\n",
      "\n",
      "\n"
     ]
    }
   ],
   "source": [
    "for nuc in ['Cm244', 'Cm246', 'Cm247', 'Am245', 'Cm245']:\n",
    "    print(nuc)\n",
    "    side_by_side(nuc, omc0, spn0)\n",
    "    print('\\n')"
   ]
  },
  {
   "cell_type": "markdown",
   "id": "5d5e358e",
   "metadata": {},
   "source": [
    "Now lets look at these in the next timestep"
   ]
  },
  {
   "cell_type": "code",
   "execution_count": 27,
   "id": "69368c7a",
   "metadata": {},
   "outputs": [
    {
     "name": "stdout",
     "output_type": "stream",
     "text": [
      "Cm244\n",
      "OpenMC: [1.2151405e-18 1.2223320e-18]\n",
      "Serpent: [[1.21514e-18 1.22233e-18]]\n",
      "\n",
      "\n",
      "Cm246\n",
      "OpenMC: [7.59519024e-19 9.07029443e-19]\n",
      "Serpent: [[7.59503e-19 9.07552e-19]]\n",
      "\n",
      "\n",
      "Cm247\n",
      "OpenMC: [4.09103281e-19 4.07972973e-19]\n",
      "Serpent: [[4.09103e-19 4.08065e-19]]\n",
      "\n",
      "\n",
      "Am245\n",
      "OpenMC: [0.00000000e+00 1.73435392e-24]\n",
      "Serpent: [[2.44660e-24 1.75639e-24]]\n",
      "\n",
      "\n",
      "Cm245\n",
      "OpenMC: [5.44340100e-19 6.25980207e-19]\n",
      "Serpent: [[5.42228e-19 6.27361e-19]]\n",
      "\n",
      "\n"
     ]
    }
   ],
   "source": [
    "for nuc in ['Cm244', 'Cm246', 'Cm247', 'Am245', 'Cm245']:\n",
    "    print(nuc)\n",
    "    side_by_side(nuc, omc1, spn1)\n",
    "    print('\\n')"
   ]
  },
  {
   "cell_type": "code",
   "execution_count": 36,
   "id": "5847d8b6",
   "metadata": {},
   "outputs": [],
   "source": [
    "i = 10\n",
    "omc_far = Results(f'openmc_results/saltproc_runtime/step_{i}_data/depletion_results.h5')\n",
    "spn_far = serpentTools.read(f'serpent_results/saltproc_runtime/step_{i}_data/runtime_input.serpent_dep.m')"
   ]
  },
  {
   "cell_type": "code",
   "execution_count": 37,
   "id": "b91b2744",
   "metadata": {},
   "outputs": [
    {
     "name": "stdout",
     "output_type": "stream",
     "text": [
      "Cm244\n",
      "OpenMC: [1.25560119e-18 1.25951453e-18]\n",
      "Serpent: [[1.25519e-18 1.25903e-18]]\n",
      "\n",
      "\n",
      "Cm246\n",
      "OpenMC: [1.18730953e-18 1.20330263e-18]\n",
      "Serpent: [[1.18003e-18 1.19186e-18]]\n",
      "\n",
      "\n",
      "Cm247\n",
      "OpenMC: [3.99122653e-19 3.98029772e-19]\n",
      "Serpent: [[3.99814e-19 3.98749e-19]]\n",
      "\n",
      "\n",
      "Am245\n",
      "OpenMC: [0.00000000e+00 1.73621512e-24]\n",
      "Serpent: [[1.75492e-24 1.75685e-24]]\n",
      "\n",
      "\n",
      "Cm245\n",
      "OpenMC: [1.20774646e-18 1.39999650e-18]\n",
      "Serpent: [[7.35280e-19 7.30136e-19]]\n",
      "\n",
      "\n"
     ]
    }
   ],
   "source": [
    "for nuc in ['Cm244', 'Cm246', 'Cm247', 'Am245', 'Cm245']:\n",
    "    print(nuc)\n",
    "    side_by_side(nuc, omc_far, spn_far)\n",
    "    print('\\n')"
   ]
  },
  {
   "cell_type": "markdown",
   "id": "1528ed28",
   "metadata": {},
   "source": [
    "There is another issue where the OpenMC side of SaltProc is not storing these nulcides at all!"
   ]
  },
  {
   "cell_type": "code",
   "execution_count": 47,
   "id": "08b61177",
   "metadata": {},
   "outputs": [],
   "source": [
    "import saltproc"
   ]
  },
  {
   "cell_type": "code",
   "execution_count": 57,
   "id": "76df1675",
   "metadata": {},
   "outputs": [],
   "source": [
    "omc_res = saltproc.Results('openmc_results/saltproc_runtime/saltproc_results.h5')\n",
    "spn_res = saltproc.Results('serpent_results/saltproc_runtime/saltproc_results.h5')"
   ]
  },
  {
   "cell_type": "code",
   "execution_count": 60,
   "id": "bd0b4dfe",
   "metadata": {},
   "outputs": [
    {
     "ename": "KeyError",
     "evalue": "'Am245'",
     "output_type": "error",
     "traceback": [
      "\u001b[0;31m---------------------------------------------------------------------------\u001b[0m",
      "\u001b[0;31mKeyError\u001b[0m                                  Traceback (most recent call last)",
      "Cell \u001b[0;32mIn[60], line 1\u001b[0m\n\u001b[0;32m----> 1\u001b[0m \u001b[43momc_res\u001b[49m\u001b[38;5;241;43m.\u001b[39;49m\u001b[43mget_nuclide_mass\u001b[49m\u001b[43m(\u001b[49m\u001b[38;5;124;43m'\u001b[39;49m\u001b[38;5;124;43mfuel\u001b[39;49m\u001b[38;5;124;43m'\u001b[39;49m\u001b[43m,\u001b[49m\u001b[43m \u001b[49m\u001b[38;5;124;43m'\u001b[39;49m\u001b[38;5;124;43mAm245\u001b[39;49m\u001b[38;5;124;43m'\u001b[39;49m\u001b[43m)\u001b[49m\n",
      "File \u001b[0;32m~/projects/saltproc/saltproc/results.py:202\u001b[0m, in \u001b[0;36mResults.get_nuclide_mass\u001b[0;34m(self, material, nuclide, timestep)\u001b[0m\n\u001b[1;32m    200\u001b[0m nucmap \u001b[38;5;241m=\u001b[39m \u001b[38;5;28mself\u001b[39m\u001b[38;5;241m.\u001b[39mnuclide_idx[material]\n\u001b[1;32m    201\u001b[0m comp \u001b[38;5;241m=\u001b[39m \u001b[38;5;28mself\u001b[39m\u001b[38;5;241m.\u001b[39mmaterial_composition[material]\n\u001b[0;32m--> 202\u001b[0m nuclide_mass \u001b[38;5;241m=\u001b[39m comp[\u001b[43mnucmap\u001b[49m\u001b[43m[\u001b[49m\u001b[43mnuclide\u001b[49m\u001b[43m]\u001b[49m]\n\u001b[1;32m    203\u001b[0m \u001b[38;5;28;01mif\u001b[39;00m timestep \u001b[38;5;129;01mis\u001b[39;00m \u001b[38;5;129;01mnot\u001b[39;00m \u001b[38;5;28;01mNone\u001b[39;00m:\n\u001b[1;32m    204\u001b[0m     nuclide_mass \u001b[38;5;241m=\u001b[39m nuclide_mass[timestep]\n",
      "\u001b[0;31mKeyError\u001b[0m: 'Am245'"
     ]
    }
   ],
   "source": [
    "omc_res.get_nuclide_mass('fuel', 'Am245')"
   ]
  },
  {
   "cell_type": "code",
   "execution_count": 61,
   "id": "b21743f9",
   "metadata": {},
   "outputs": [
    {
     "data": {
      "text/plain": [
       "array([0.00000000e+00, 1.19173886e-16, 1.19173886e-16, 8.55537569e-17,\n",
       "       8.55537569e-17, 8.52926713e-17, 8.52926713e-17, 8.54129850e-17,\n",
       "       8.54129850e-17, 8.53365103e-17, 8.53365103e-17, 8.55084566e-17,\n",
       "       8.55084566e-17, 8.52517549e-17, 8.52517549e-17, 8.53394329e-17,\n",
       "       8.53394329e-17, 8.54378271e-17, 8.54378271e-17, 8.54821532e-17,\n",
       "       8.54821532e-17, 8.55761635e-17, 8.55761635e-17, 8.55703183e-17,\n",
       "       8.55703183e-17, 8.55292263e-17, 8.55292263e-17, 8.55217443e-17,\n",
       "       8.55217443e-17, 8.57349172e-17, 8.57349172e-17, 8.58058572e-17,\n",
       "       8.58058572e-17, 8.58129874e-17, 8.58129874e-17, 8.57071119e-17,\n",
       "       8.57071119e-17, 8.59275890e-17, 8.59275890e-17, 8.58280459e-17,\n",
       "       8.58280459e-17, 8.58161795e-17, 8.58161795e-17, 8.60678288e-17,\n",
       "       8.60678288e-17, 8.57929339e-17, 8.57929339e-17, 8.59510614e-17,\n",
       "       8.59510614e-17, 8.61652032e-17, 8.61652032e-17, 8.61586942e-17,\n",
       "       8.61586942e-17, 8.59982663e-17, 8.59982663e-17, 8.60935583e-17,\n",
       "       8.60935583e-17, 8.63963471e-17, 8.63963471e-17, 8.62612480e-17,\n",
       "       8.62612480e-17, 8.62557130e-17, 8.62557130e-17, 8.61352272e-17,\n",
       "       8.61352272e-17, 8.62646134e-17, 8.62646134e-17, 8.64680349e-17,\n",
       "       8.64680349e-17, 8.64741893e-17, 8.64741893e-17, 8.64365070e-17,\n",
       "       8.64365070e-17, 8.66618452e-17, 8.66618452e-17, 8.65598688e-17,\n",
       "       8.65598688e-17, 8.65548204e-17, 8.65548204e-17, 8.66749495e-17,\n",
       "       8.66749495e-17, 8.67736469e-17, 8.67736469e-17, 8.68041542e-17,\n",
       "       8.68041542e-17, 8.68132303e-17, 8.68132303e-17, 8.69065691e-17,\n",
       "       8.69065691e-17, 8.71845059e-17, 8.71845059e-17, 8.72832013e-17,\n",
       "       8.72832013e-17, 8.75401925e-17, 8.75401925e-17, 8.75721589e-17,\n",
       "       8.75721589e-17, 8.78705488e-17, 8.78705488e-17, 8.81660150e-17,\n",
       "       8.81660150e-17, 8.85900641e-17, 8.85900641e-17, 8.90175209e-17,\n",
       "       8.90175209e-17, 8.95097548e-17, 8.95097548e-17, 9.00828383e-17,\n",
       "       9.00828383e-17, 9.04693766e-17, 9.04693766e-17, 9.14993143e-17,\n",
       "       9.14993143e-17, 9.23276070e-17, 9.23276070e-17, 9.32440530e-17,\n",
       "       9.32440530e-17, 9.45720551e-17, 9.45720551e-17, 9.61961794e-17,\n",
       "       9.61961794e-17, 9.74613404e-17, 9.74613404e-17, 9.97585551e-17,\n",
       "       9.97585551e-17, 1.01669044e-16, 1.01669044e-16, 1.04243858e-16,\n",
       "       1.04243858e-16, 1.07493708e-16, 1.07493708e-16, 1.10695815e-16,\n",
       "       1.10695815e-16, 1.14363523e-16, 1.14363523e-16, 1.19031605e-16,\n",
       "       1.19031605e-16, 1.24161385e-16, 1.24161385e-16, 1.29887770e-16,\n",
       "       1.29887770e-16, 1.36667114e-16, 1.36667114e-16, 1.43969511e-16,\n",
       "       1.43969511e-16, 1.52694032e-16, 1.52694032e-16, 1.62272782e-16,\n",
       "       1.62272782e-16, 1.73266822e-16, 1.73266822e-16, 1.85246578e-16,\n",
       "       1.85246578e-16, 1.98731223e-16, 1.98731223e-16, 2.14758129e-16,\n",
       "       2.14758129e-16, 2.32127233e-16, 2.32127233e-16, 2.51896847e-16,\n",
       "       2.51896847e-16, 2.73468394e-16, 2.73468394e-16, 2.97110703e-16,\n",
       "       2.97110703e-16, 3.24695416e-16, 3.24695416e-16, 3.55111596e-16,\n",
       "       3.55111596e-16, 3.88738620e-16, 3.88738620e-16, 4.26343534e-16,\n",
       "       4.26343534e-16, 4.67730044e-16, 4.67730044e-16, 5.13678824e-16,\n",
       "       5.13678824e-16, 5.64620375e-16, 5.64620375e-16, 6.20417326e-16,\n",
       "       6.20417326e-16, 6.82496619e-16, 6.82496619e-16, 7.52367977e-16,\n",
       "       7.52367977e-16, 8.27401449e-16, 8.27401449e-16, 9.11459057e-16,\n",
       "       9.11459057e-16, 1.00296768e-15, 1.00296768e-15, 1.10312046e-15,\n",
       "       1.10312046e-15, 1.21273553e-15, 1.21273553e-15, 1.33468622e-15,\n",
       "       1.33468622e-15, 1.46910394e-15, 1.46910394e-15, 1.61125485e-15,\n",
       "       1.61125485e-15, 1.77062102e-15, 1.77062102e-15, 1.94456762e-15,\n",
       "       1.94456762e-15, 2.13459941e-15, 2.13459941e-15, 2.33993221e-15,\n",
       "       2.33993221e-15, 2.56285973e-15, 2.56285973e-15, 2.80713180e-15,\n",
       "       2.80713180e-15, 3.07848036e-15, 3.07848036e-15, 3.36089252e-15,\n",
       "       3.36089252e-15, 3.68040342e-15, 3.68040342e-15, 4.01365620e-15,\n",
       "       4.01365620e-15, 4.38167462e-15, 4.38167462e-15, 4.78540810e-15,\n",
       "       4.78540810e-15, 5.21220420e-15, 5.21220420e-15, 5.67781228e-15,\n",
       "       5.67781228e-15, 6.18213472e-15, 6.18213472e-15, 6.72794714e-15,\n",
       "       6.72794714e-15, 7.30585029e-15, 7.30585029e-15, 7.95504699e-15,\n",
       "       7.95504699e-15, 8.61359129e-15, 8.61359129e-15, 9.36685283e-15,\n",
       "       9.36685283e-15, 1.01528858e-14, 1.01528858e-14, 1.09916078e-14,\n",
       "       1.09916078e-14])"
      ]
     },
     "execution_count": 61,
     "metadata": {},
     "output_type": "execute_result"
    }
   ],
   "source": [
    "spn_res.get_nuclide_mass('fuel', 'Am245')"
   ]
  },
  {
   "cell_type": "markdown",
   "id": "90bd6ecc",
   "metadata": {},
   "source": [
    "The issue seems to step from `OpenMCDepcode.read_depleted_materials()`. Specifically, we should try to process materials from the `Results` object as much as possible instead of filtering everything through an `openmc.Material` object first, as this will remove nuclides that would otherwise be present in the SaltProc results file.\n",
    "\n",
    "We will also need to figure out a way to copy the depletion results file from the most recent step, and update the nuclide compositions within so we can use `CoupledOperator.prev_res` to maintain the decay-only nuclides"
   ]
  },
  {
   "cell_type": "markdown",
   "id": "0308bb8a",
   "metadata": {},
   "source": [
    "It is possible that there is an issue with out depletion chain, but I'd like to first fix the SaltProc code issues. If results continue to underperform, we may want to try removing the Be7 evaluation as they do [here](https://github.com/openmc-dev/data/blob/master/depletion/generate_endf71_chain.py)"
   ]
  },
  {
   "cell_type": "code",
   "execution_count": null,
   "id": "59a3191c",
   "metadata": {},
   "outputs": [],
   "source": []
  }
 ],
 "metadata": {
  "kernelspec": {
   "display_name": "Python 3 (ipykernel)",
   "language": "python",
   "name": "python3"
  },
  "language_info": {
   "codemirror_mode": {
    "name": "ipython",
    "version": 3
   },
   "file_extension": ".py",
   "mimetype": "text/x-python",
   "name": "python",
   "nbconvert_exporter": "python",
   "pygments_lexer": "ipython3",
   "version": "3.11.3"
  }
 },
 "nbformat": 4,
 "nbformat_minor": 5
}
