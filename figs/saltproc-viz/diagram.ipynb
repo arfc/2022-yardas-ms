{
 "cells": [
  {
   "cell_type": "code",
   "execution_count": null,
   "id": "9a10b411",
   "metadata": {},
   "outputs": [],
   "source": [
    "import graphviz as gv"
   ]
  },
  {
   "cell_type": "markdown",
   "id": "5ca14698",
   "metadata": {},
   "source": [
    "## `Depcode` diagram"
   ]
  },
  {
   "cell_type": "markdown",
   "id": "6a787826",
   "metadata": {},
   "source": [
    "#### `write_depcode_input`"
   ]
  },
  {
   "cell_type": "code",
   "execution_count": null,
   "id": "d23c388d",
   "metadata": {},
   "outputs": [],
   "source": [
    "wdi_init = gv.Digraph('cluster_wdi_init')\n",
    "wdi_init.attr(compound='true',label='init',color='grey',fontcolor='grey')\n",
    "wdi_init.edge('insert_path_to_geometry','change_sim_par')\n",
    "wdi_init.edge('change_sim_par', 'create_iter_matfile')\n",
    "wdi_init"
   ]
  },
  {
   "cell_type": "code",
   "execution_count": null,
   "id": "268ba9a7",
   "metadata": {},
   "outputs": [],
   "source": [
    "wdi = gv.Digraph('cluster_wdi')\n",
    "wdi.attr(compound='true',label='write_depcode_input',color='red')\n",
    "wdi.subgraph(graph=wdi_init)\n",
    "wdi.edge('read_depcode_template', 'insert_path_to_geometry',lhead='cluster_wdi_init')\n",
    "wdi.edge('create_iter_matfile','replace_burnup_parameters',ltail='cluster_wdi_init')\n",
    "wdi.edge('read_depcode_template','replace_burnup_parameters')\n",
    "\n",
    "wdi"
   ]
  },
  {
   "cell_type": "code",
   "execution_count": null,
   "id": "655c4db0",
   "metadata": {},
   "outputs": [],
   "source": [
    "# Depcode Class diagram\n",
    "depcode = gv.Digraph('cluster_depcode', node_attr = {'color' : 'red'})\n",
    "depcode.attr(compound='true',label='Depcode')\n",
    "\n",
    "depcode.subgraph(graph=wdi)\n",
    "\n",
    "depcode.node('get_nuc_name')\n",
    "depcode.node('get_tra_or_dec')\n",
    "depcode.node('read_dep_comp')\n",
    "depcode.node('read_depcode_info')\n",
    "depcode.node('read_depcode_step_param')\n",
    "depcode.node('run_depcode')\n",
    "depcode.node('sss_meta_zzz')\n",
    "depcode.node('write_mat_file')\n",
    "depcode.node('write_depcode_input')"
   ]
  },
  {
   "cell_type": "code",
   "execution_count": null,
   "id": "5f683288",
   "metadata": {
    "scrolled": false
   },
   "outputs": [],
   "source": [
    "depcode"
   ]
  },
  {
   "cell_type": "markdown",
   "id": "1a499ebc",
   "metadata": {},
   "source": [
    "## `Simulation` diagram"
   ]
  },
  {
   "cell_type": "markdown",
   "id": "462f916e",
   "metadata": {},
   "source": [
    "#### `runsim_no_reproc`"
   ]
  },
  {
   "cell_type": "code",
   "execution_count": null,
   "id": "4c21f081",
   "metadata": {},
   "outputs": [],
   "source": [
    "rnr_init = gv.Digraph('cluster_rnr_init')\n",
    "rnr_init.attr(compound='true', label='init', color='grey',fontcolor='grey')\n",
    "rnr_init.node('write_depcode_input',color='red')\n",
    "rnr_init.node('store_run_init_info')"
   ]
  },
  {
   "cell_type": "code",
   "execution_count": null,
   "id": "646ab4db",
   "metadata": {},
   "outputs": [],
   "source": [
    "rnr = gv.Digraph('cluster_rnr',node_attr = {'color' : 'blue'})\n",
    "rnr.attr(compound='true', label='runsim_no_reproc',color='blue')\n",
    "rnr.subgraph(graph=rnr_init)\n",
    "rnr.node('store_mat_data')\n",
    "rnr.node('store_run_step_info')\n",
    "\n",
    "rnr.attr('node',name='depcode_nodes',color='red')\n",
    "rnr.edge('write_depcode_input','run_depcode')#rnr.edge('replace_burnup_parameters', 'run_depcode', ltail='cluster_wdi')\n",
    "rnr.edge('run_depcode','store_run_init_info')\n",
    "rnr.edge('run_depcode','read_dep_comp')\n",
    "rnr.edge('read_dep_comp','store_mat_data')\n",
    "rnr.edge('store_mat_data','store_run_step_info')\n",
    "rnr.edge('store_run_step_info','write_mat_file')\n",
    "rnr\n",
    "#print(rnr)"
   ]
  },
  {
   "cell_type": "markdown",
   "id": "28b542bb",
   "metadata": {},
   "source": [
    "#### `store_after_reproc`"
   ]
  },
  {
   "cell_type": "code",
   "execution_count": null,
   "id": "012904c4",
   "metadata": {},
   "outputs": [],
   "source": [
    "sar_loop = gv.Digraph('cluster_sar_loop')\n",
    "sar_loop.attr(compound='true',label='for-loop',color='grey',fontcolor='grey')\n",
    "with sar_loop.subgraph(name='cluster_sar_loop0') as l0:\n",
    "    l0.attr(compound='true',label='for-loop')\n",
    "    with l0.subgraph(name='cluster_sar_loop1') as l1:\n",
    "        l1.attr(compound='true',label='for-loop')\n",
    "        l1.node('sar_db_op',label='DB_OPS',shape='box',color='black')\n",
    "        \n",
    "sar = gv.Digraph('cluster_sar')\n",
    "sar.attr(compound='true', label='store_after_reproc', color='blue')\n",
    "sar.subgraph(graph=sar_loop)\n",
    "sar.node('get_nuc_name',color='red')\n",
    "sar.edge('sar_db_op', 'get_nuc_name', ltail='cluster_sar_loop1')\n",
    "sar.edge('sar_db_op','store_mat_data',ltail='cluster_sar_loop')\n",
    "\n",
    "sar"
   ]
  },
  {
   "cell_type": "markdown",
   "id": "9e23a651",
   "metadata": {},
   "source": [
    "#### `store_mat_data`"
   ]
  },
  {
   "cell_type": "code",
   "execution_count": null,
   "id": "ffd8db2d",
   "metadata": {},
   "outputs": [],
   "source": [
    "smd_loop = gv.Digraph('cluster_smd_loop')\n",
    "smd_loop.attr(compound='true',label='for-loop',color='grey',fontcolor='grey')\n",
    "with smd_loop.subgraph(name='cluster_smd_loop0') as l0:\n",
    "    l0.attr(compound='true',label='for-loop')\n",
    "    l0.node('smd_db_op',label='DB_OPS',shape='box',color='black')\n",
    "        \n",
    "smd = gv.Digraph('cluster_smd')\n",
    "smd.attr(compound='true',label='store_mat_data',color='blue')\n",
    "smd.node('get_nuc_name',color='red')\n",
    "smd.subgraph(graph=smd_loop)\n",
    "smd.edge('smd_db_op','get_nuc_name',ltail='cluster_smd_loop0')\n",
    "smd\n"
   ]
  },
  {
   "cell_type": "markdown",
   "id": "0b259706",
   "metadata": {},
   "source": [
    "#### `store_run_step_info`"
   ]
  },
  {
   "cell_type": "code",
   "execution_count": null,
   "id": "553be679",
   "metadata": {},
   "outputs": [],
   "source": [
    "srsi = gv.Digraph('cluster_srsi')\n",
    "srsi.attr(compound='true',label='store_run_step_info',color='blue')\n",
    "srsi.node('srsi_db_op',label='DB_OPS',color='black',shape='box')\n",
    "srsi.node('read_depcode_step_param',color='red')\n",
    "srsi.edge('srsi_db_op','read_depcode_step_param',ltail='cluster_srsi')\n",
    "srsi"
   ]
  },
  {
   "cell_type": "markdown",
   "id": "63f121e1",
   "metadata": {},
   "source": [
    "#### `store_run_init_info`"
   ]
  },
  {
   "cell_type": "code",
   "execution_count": null,
   "id": "ecd2e8c9",
   "metadata": {},
   "outputs": [],
   "source": [
    "srii = gv.Digraph('cluster_srii')\n",
    "srii.attr(compound='true',label='store_run_init_info',color='blue')\n",
    "srii.node('srii_param_op',label='PARAM_OPS',color='black',shape='box')\n",
    "srii.node('read_depcode_info',color='red')\n",
    "srii.edge('srii_param_op','read_depcode_info',ltail='cluster_srii')\n",
    "srii"
   ]
  },
  {
   "cell_type": "code",
   "execution_count": null,
   "id": "369c49bd",
   "metadata": {
    "scrolled": false
   },
   "outputs": [],
   "source": [
    "simulation = gv.Digraph('cluster_simulation', node_attr = {'color' : 'blue'})\n",
    "simulation.attr(compound='true',label='Simulation')\n",
    "simulation.subgraph(graph=rnr)\n",
    "simulation.subgraph(graph=sar)\n",
    "simulation.subgraph(graph=smd)\n",
    "simulation.subgraph(graph=srsi)\n",
    "simulation.subgraph(graph=srii)\n",
    "simulation"
   ]
  },
  {
   "cell_type": "code",
   "execution_count": null,
   "id": "a19a46d1",
   "metadata": {},
   "outputs": [],
   "source": [
    "saltproc = gv.Digraph('saltproc')\n",
    "saltproc.attr(compound='true', label='SaltProc')\n",
    "saltproc.subgraph(graph=depcode)\n",
    "saltproc.subgraph(graph=simulation)"
   ]
  },
  {
   "cell_type": "code",
   "execution_count": null,
   "id": "978c2b27",
   "metadata": {},
   "outputs": [],
   "source": [
    "saltproc"
   ]
  },
  {
   "cell_type": "code",
   "execution_count": null,
   "id": "6847cffd",
   "metadata": {},
   "outputs": [],
   "source": [
    "test = gv.Digraph('test')\n",
    "test.subgraph(graph=sar)"
   ]
  },
  {
   "cell_type": "code",
   "execution_count": null,
   "id": "2d2c2dd0",
   "metadata": {},
   "outputs": [],
   "source": [
    "test"
   ]
  },
  {
   "cell_type": "code",
   "execution_count": null,
   "id": "8702e32d",
   "metadata": {},
   "outputs": [],
   "source": []
  }
 ],
 "metadata": {
  "kernelspec": {
   "display_name": "Python 3",
   "language": "python",
   "name": "python3"
  },
  "language_info": {
   "codemirror_mode": {
    "name": "ipython",
    "version": 3
   },
   "file_extension": ".py",
   "mimetype": "text/x-python",
   "name": "python",
   "nbconvert_exporter": "python",
   "pygments_lexer": "ipython3",
   "version": "3.7.7"
  }
 },
 "nbformat": 4,
 "nbformat_minor": 5
}
