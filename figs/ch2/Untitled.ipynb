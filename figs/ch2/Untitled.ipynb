{
 "cells": [
  {
   "cell_type": "code",
   "execution_count": 33,
   "id": "08a4db68",
   "metadata": {},
   "outputs": [],
   "source": [
    "import pandas as pd\n",
    "import numpy as np\n",
    "import matplotlib.pyplot as plt"
   ]
  },
  {
   "cell_type": "code",
   "execution_count": 34,
   "id": "b4e2e247",
   "metadata": {},
   "outputs": [],
   "source": [
    "robertson_data = pd.read_csv('robertson_flux_spectra.csv')"
   ]
  },
  {
   "cell_type": "code",
   "execution_count": 35,
   "id": "b1c3e328",
   "metadata": {},
   "outputs": [
    {
     "data": {
      "text/html": [
       "<div>\n",
       "<style scoped>\n",
       "    .dataframe tbody tr th:only-of-type {\n",
       "        vertical-align: middle;\n",
       "    }\n",
       "\n",
       "    .dataframe tbody tr th {\n",
       "        vertical-align: top;\n",
       "    }\n",
       "\n",
       "    .dataframe thead th {\n",
       "        text-align: right;\n",
       "    }\n",
       "</style>\n",
       "<table border=\"1\" class=\"dataframe\">\n",
       "  <thead>\n",
       "    <tr style=\"text-align: right;\">\n",
       "      <th></th>\n",
       "      <th>energy_group</th>\n",
       "      <th>energy_lower_bound(eV)</th>\n",
       "      <th>zone_i</th>\n",
       "      <th>zone_ii</th>\n",
       "    </tr>\n",
       "  </thead>\n",
       "  <tbody>\n",
       "    <tr>\n",
       "      <th>0</th>\n",
       "      <td>1</td>\n",
       "      <td>820000.0000</td>\n",
       "      <td>1.220000e+14</td>\n",
       "      <td>2.000000e+13</td>\n",
       "    </tr>\n",
       "    <tr>\n",
       "      <th>1</th>\n",
       "      <td>2</td>\n",
       "      <td>32000.0000</td>\n",
       "      <td>2.610000e+14</td>\n",
       "      <td>4.600000e+13</td>\n",
       "    </tr>\n",
       "    <tr>\n",
       "      <th>2</th>\n",
       "      <td>3</td>\n",
       "      <td>1200.0000</td>\n",
       "      <td>2.630000e+14</td>\n",
       "      <td>5.800000e+13</td>\n",
       "    </tr>\n",
       "    <tr>\n",
       "      <th>3</th>\n",
       "      <td>4</td>\n",
       "      <td>48.0000</td>\n",
       "      <td>2.410000e+14</td>\n",
       "      <td>4.600000e+13</td>\n",
       "    </tr>\n",
       "    <tr>\n",
       "      <th>4</th>\n",
       "      <td>5</td>\n",
       "      <td>1.9000</td>\n",
       "      <td>2.020000e+14</td>\n",
       "      <td>2.900000e+13</td>\n",
       "    </tr>\n",
       "    <tr>\n",
       "      <th>5</th>\n",
       "      <td>6</td>\n",
       "      <td>0.7700</td>\n",
       "      <td>6.100000e+13</td>\n",
       "      <td>7.000000e+12</td>\n",
       "    </tr>\n",
       "    <tr>\n",
       "      <th>6</th>\n",
       "      <td>7</td>\n",
       "      <td>0.1800</td>\n",
       "      <td>3.250000e+14</td>\n",
       "      <td>2.100000e+13</td>\n",
       "    </tr>\n",
       "    <tr>\n",
       "      <th>7</th>\n",
       "      <td>8</td>\n",
       "      <td>0.0600</td>\n",
       "      <td>3.330000e+14</td>\n",
       "      <td>1.400000e+13</td>\n",
       "    </tr>\n",
       "    <tr>\n",
       "      <th>8</th>\n",
       "      <td>9</td>\n",
       "      <td>0.0047</td>\n",
       "      <td>1.060000e+14</td>\n",
       "      <td>4.000000e+12</td>\n",
       "    </tr>\n",
       "  </tbody>\n",
       "</table>\n",
       "</div>"
      ],
      "text/plain": [
       "   energy_group  energy_lower_bound(eV)        zone_i       zone_ii\n",
       "0             1             820000.0000  1.220000e+14  2.000000e+13\n",
       "1             2              32000.0000  2.610000e+14  4.600000e+13\n",
       "2             3               1200.0000  2.630000e+14  5.800000e+13\n",
       "3             4                 48.0000  2.410000e+14  4.600000e+13\n",
       "4             5                  1.9000  2.020000e+14  2.900000e+13\n",
       "5             6                  0.7700  6.100000e+13  7.000000e+12\n",
       "6             7                  0.1800  3.250000e+14  2.100000e+13\n",
       "7             8                  0.0600  3.330000e+14  1.400000e+13\n",
       "8             9                  0.0047  1.060000e+14  4.000000e+12"
      ]
     },
     "execution_count": 35,
     "metadata": {},
     "output_type": "execute_result"
    }
   ],
   "source": [
    "robertson_data"
   ]
  },
  {
   "cell_type": "code",
   "execution_count": 39,
   "id": "f60e035d",
   "metadata": {},
   "outputs": [],
   "source": [
    "unit_lethargy = []\n",
    "energies = [20e6] + list(robertson_data['energy_lower_bound(eV)'])\n",
    "for i, b in enumerate(energies):\n",
    "    if i < len(energies) - 1:\n",
    "        unit_lethargy += [np.log(energies[i]/energies[i+1])]"
   ]
  },
  {
   "cell_type": "code",
   "execution_count": 41,
   "id": "a9a22552",
   "metadata": {},
   "outputs": [
    {
     "data": {
      "text/plain": [
       "[3.1941832122778293,\n",
       " 3.2435684374585723,\n",
       " 3.283414346005772,\n",
       " 3.2188758248682006,\n",
       " 3.2293471247354963,\n",
       " 0.9032186503068022,\n",
       " 1.4534336639575192,\n",
       " 1.0986122886681098,\n",
       " 2.546782053506088]"
      ]
     },
     "execution_count": 41,
     "metadata": {},
     "output_type": "execute_result"
    }
   ],
   "source": [
    "unit_lethargy"
   ]
  },
  {
   "cell_type": "code",
   "execution_count": 44,
   "id": "9150540d",
   "metadata": {},
   "outputs": [
    {
     "data": {
      "text/plain": [
       "[<matplotlib.lines.Line2D at 0x7fccec569660>]"
      ]
     },
     "execution_count": 44,
     "metadata": {},
     "output_type": "execute_result"
    },
    {
     "data": {
      "image/png": "[encoded data removed]",
      "text/plain": [
       "<Figure size 432x288 with 1 Axes>"
      ]
     },
     "metadata": {
      "needs_background": "light"
     },
     "output_type": "display_data"
    }
   ],
   "source": [
    "plt.loglog(energies[1:], robertson_data['zone_i']/unit_lethargy)"
   ]
  },
  {
   "cell_type": "code",
   "execution_count": null,
   "id": "5e81c91d",
   "metadata": {},
   "outputs": [],
   "source": []
  }
 ],
 "metadata": {
  "kernelspec": {
   "display_name": "Python [conda env:viz] *",
   "language": "python",
   "name": "conda-env-viz-py"
  },
  "language_info": {
   "codemirror_mode": {
    "name": "ipython",
    "version": 3
   },
   "file_extension": ".py",
   "mimetype": "text/x-python",
   "name": "python",
   "nbconvert_exporter": "python",
   "pygments_lexer": "ipython3",
   "version": "3.10.2"
  }
 },
 "nbformat": 4,
 "nbformat_minor": 5
}
